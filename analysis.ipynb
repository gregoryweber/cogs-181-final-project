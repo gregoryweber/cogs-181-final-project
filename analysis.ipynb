{
 "cells": [
  {
   "cell_type": "markdown",
   "id": "5cec7213-d94f-4071-bda1-e1c26d74a092",
   "metadata": {},
   "source": [
    "# Analysis"
   ]
  },
  {
   "cell_type": "markdown",
   "id": "368af136-873b-4882-95b9-c7857987aae2",
   "metadata": {},
   "source": [
    "### Data Import"
   ]
  },
  {
   "cell_type": "code",
   "execution_count": 1,
   "id": "d27a5c12-f983-48de-b4e4-2a8d0a53a96b",
   "metadata": {},
   "outputs": [
    {
     "data": {
      "text/html": [
       "    <style>\n",
       "        .bk-notebook-logo {\n",
       "            display: block;\n",
       "            width: 20px;\n",
       "            height: 20px;\n",
       "            background-image: url(data:image/png;base64,iVBORw0KGgoAAAANSUhEUgAAABQAAAAUCAYAAACNiR0NAAAABHNCSVQICAgIfAhkiAAAAAlwSFlzAAALEgAACxIB0t1+/AAAABx0RVh0U29mdHdhcmUAQWRvYmUgRmlyZXdvcmtzIENTNui8sowAAAOkSURBVDiNjZRtaJVlGMd/1/08zzln5zjP1LWcU9N0NkN8m2CYjpgQYQXqSs0I84OLIC0hkEKoPtiH3gmKoiJDU7QpLgoLjLIQCpEsNJ1vqUOdO7ppbuec5+V+rj4ctwzd8IIbbi6u+8f1539dt3A78eXC7QizUF7gyV1fD1Yqg4JWz84yffhm0qkFqBogB9rM8tZdtwVsPUhWhGcFJngGeWrPzHm5oaMmkfEg1usvLFyc8jLRqDOMru7AyC8saQr7GG7f5fvDeH7Ej8CM66nIF+8yngt6HWaKh7k49Soy9nXurCi1o3qUbS3zWfrYeQDTB/Qj6kX6Ybhw4B+bOYoLKCC9H3Nu/leUTZ1JdRWkkn2ldcCamzrcf47KKXdAJllSlxAOkRgyHsGC/zRday5Qld9DyoM4/q/rUoy/CXh3jzOu3bHUVZeU+DEn8FInkPBFlu3+nW3Nw0mk6vCDiWg8CeJaxEwuHS3+z5RgY+YBR6V1Z1nxSOfoaPa4LASWxxdNp+VWTk7+4vzaou8v8PN+xo+KY2xsw6une2frhw05CTYOmQvsEhjhWjn0bmXPjpE1+kplmmkP3suftwTubK9Vq22qKmrBhpY4jvd5afdRA3wGjFAgcnTK2s4hY0/GPNIb0nErGMCRxWOOX64Z8RAC4oCXdklmEvcL8o0BfkNK4lUg9HTl+oPlQxdNo3Mg4Nv175e/1LDGzZen30MEjRUtmXSfiTVu1kK8W4txyV6BMKlbgk3lMwYCiusNy9fVfvvwMxv8Ynl6vxoByANLTWplvuj/nF9m2+PDtt1eiHPBr1oIfhCChQMBw6Aw0UulqTKZdfVvfG7VcfIqLG9bcldL/+pdWTLxLUy8Qq38heUIjh4XlzZxzQm19lLFlr8vdQ97rjZVOLf8nclzckbcD4wxXMidpX30sFd37Fv/GtwwhzhxGVAprjbg0gCAEeIgwCZyTV2Z1REEW8O4py0wsjeloKoMr6iCY6dP92H6Vw/oTyICIthibxjm/DfN9lVz8IqtqKYLUXfoKVMVQVVJOElGjrnnUt9T9wbgp8AyYKaGlqingHZU/uG2NTZSVqwHQTWkx9hxjkpWDaCg6Ckj5qebgBVbT3V3NNXMSiWSDdGV3hrtzla7J+duwPOToIg42ChPQOQjspnSlp1V+Gjdged7+8UN5CRAV7a5EdFNwCjEaBR27b3W890TE7g24NAP/mMDXRWrGoFPQI9ls/MWO2dWFAar/xcOIImbbpA3zgAAAABJRU5ErkJggg==);\n",
       "        }\n",
       "    </style>\n",
       "    <div>\n",
       "        <a href=\"https://bokeh.org\" target=\"_blank\" class=\"bk-notebook-logo\"></a>\n",
       "        <span id=\"d1ca6494-431d-478a-ba18-8978fd4b3694\">Loading BokehJS ...</span>\n",
       "    </div>\n"
      ]
     },
     "metadata": {},
     "output_type": "display_data"
    },
    {
     "data": {
      "application/javascript": [
       "'use strict';\n",
       "(function(root) {\n",
       "  function now() {\n",
       "    return new Date();\n",
       "  }\n",
       "\n",
       "  const force = true;\n",
       "\n",
       "  if (typeof root._bokeh_onload_callbacks === \"undefined\" || force === true) {\n",
       "    root._bokeh_onload_callbacks = [];\n",
       "    root._bokeh_is_loading = undefined;\n",
       "  }\n",
       "\n",
       "const JS_MIME_TYPE = 'application/javascript';\n",
       "  const HTML_MIME_TYPE = 'text/html';\n",
       "  const EXEC_MIME_TYPE = 'application/vnd.bokehjs_exec.v0+json';\n",
       "  const CLASS_NAME = 'output_bokeh rendered_html';\n",
       "\n",
       "  /**\n",
       "   * Render data to the DOM node\n",
       "   */\n",
       "  function render(props, node) {\n",
       "    const script = document.createElement(\"script\");\n",
       "    node.appendChild(script);\n",
       "  }\n",
       "\n",
       "  /**\n",
       "   * Handle when an output is cleared or removed\n",
       "   */\n",
       "  function handleClearOutput(event, handle) {\n",
       "    function drop(id) {\n",
       "      const view = Bokeh.index.get_by_id(id)\n",
       "      if (view != null) {\n",
       "        view.model.document.clear()\n",
       "        Bokeh.index.delete(view)\n",
       "      }\n",
       "    }\n",
       "\n",
       "    const cell = handle.cell;\n",
       "\n",
       "    const id = cell.output_area._bokeh_element_id;\n",
       "    const server_id = cell.output_area._bokeh_server_id;\n",
       "\n",
       "    // Clean up Bokeh references\n",
       "    if (id != null) {\n",
       "      drop(id)\n",
       "    }\n",
       "\n",
       "    if (server_id !== undefined) {\n",
       "      // Clean up Bokeh references\n",
       "      const cmd_clean = \"from bokeh.io.state import curstate; print(curstate().uuid_to_server['\" + server_id + \"'].get_sessions()[0].document.roots[0]._id)\";\n",
       "      cell.notebook.kernel.execute(cmd_clean, {\n",
       "        iopub: {\n",
       "          output: function(msg) {\n",
       "            const id = msg.content.text.trim()\n",
       "            drop(id)\n",
       "          }\n",
       "        }\n",
       "      });\n",
       "      // Destroy server and session\n",
       "      const cmd_destroy = \"import bokeh.io.notebook as ion; ion.destroy_server('\" + server_id + \"')\";\n",
       "      cell.notebook.kernel.execute(cmd_destroy);\n",
       "    }\n",
       "  }\n",
       "\n",
       "  /**\n",
       "   * Handle when a new output is added\n",
       "   */\n",
       "  function handleAddOutput(event, handle) {\n",
       "    const output_area = handle.output_area;\n",
       "    const output = handle.output;\n",
       "\n",
       "    // limit handleAddOutput to display_data with EXEC_MIME_TYPE content only\n",
       "    if ((output.output_type != \"display_data\") || (!Object.prototype.hasOwnProperty.call(output.data, EXEC_MIME_TYPE))) {\n",
       "      return\n",
       "    }\n",
       "\n",
       "    const toinsert = output_area.element.find(\".\" + CLASS_NAME.split(' ')[0]);\n",
       "\n",
       "    if (output.metadata[EXEC_MIME_TYPE][\"id\"] !== undefined) {\n",
       "      toinsert[toinsert.length - 1].firstChild.textContent = output.data[JS_MIME_TYPE];\n",
       "      // store reference to embed id on output_area\n",
       "      output_area._bokeh_element_id = output.metadata[EXEC_MIME_TYPE][\"id\"];\n",
       "    }\n",
       "    if (output.metadata[EXEC_MIME_TYPE][\"server_id\"] !== undefined) {\n",
       "      const bk_div = document.createElement(\"div\");\n",
       "      bk_div.innerHTML = output.data[HTML_MIME_TYPE];\n",
       "      const script_attrs = bk_div.children[0].attributes;\n",
       "      for (let i = 0; i < script_attrs.length; i++) {\n",
       "        toinsert[toinsert.length - 1].firstChild.setAttribute(script_attrs[i].name, script_attrs[i].value);\n",
       "        toinsert[toinsert.length - 1].firstChild.textContent = bk_div.children[0].textContent\n",
       "      }\n",
       "      // store reference to server id on output_area\n",
       "      output_area._bokeh_server_id = output.metadata[EXEC_MIME_TYPE][\"server_id\"];\n",
       "    }\n",
       "  }\n",
       "\n",
       "  function register_renderer(events, OutputArea) {\n",
       "\n",
       "    function append_mime(data, metadata, element) {\n",
       "      // create a DOM node to render to\n",
       "      const toinsert = this.create_output_subarea(\n",
       "        metadata,\n",
       "        CLASS_NAME,\n",
       "        EXEC_MIME_TYPE\n",
       "      );\n",
       "      this.keyboard_manager.register_events(toinsert);\n",
       "      // Render to node\n",
       "      const props = {data: data, metadata: metadata[EXEC_MIME_TYPE]};\n",
       "      render(props, toinsert[toinsert.length - 1]);\n",
       "      element.append(toinsert);\n",
       "      return toinsert\n",
       "    }\n",
       "\n",
       "    /* Handle when an output is cleared or removed */\n",
       "    events.on('clear_output.CodeCell', handleClearOutput);\n",
       "    events.on('delete.Cell', handleClearOutput);\n",
       "\n",
       "    /* Handle when a new output is added */\n",
       "    events.on('output_added.OutputArea', handleAddOutput);\n",
       "\n",
       "    /**\n",
       "     * Register the mime type and append_mime function with output_area\n",
       "     */\n",
       "    OutputArea.prototype.register_mime_type(EXEC_MIME_TYPE, append_mime, {\n",
       "      /* Is output safe? */\n",
       "      safe: true,\n",
       "      /* Index of renderer in `output_area.display_order` */\n",
       "      index: 0\n",
       "    });\n",
       "  }\n",
       "\n",
       "  // register the mime type if in Jupyter Notebook environment and previously unregistered\n",
       "  if (root.Jupyter !== undefined) {\n",
       "    const events = require('base/js/events');\n",
       "    const OutputArea = require('notebook/js/outputarea').OutputArea;\n",
       "\n",
       "    if (OutputArea.prototype.mime_types().indexOf(EXEC_MIME_TYPE) == -1) {\n",
       "      register_renderer(events, OutputArea);\n",
       "    }\n",
       "  }\n",
       "  if (typeof (root._bokeh_timeout) === \"undefined\" || force === true) {\n",
       "    root._bokeh_timeout = Date.now() + 5000;\n",
       "    root._bokeh_failed_load = false;\n",
       "  }\n",
       "\n",
       "  const NB_LOAD_WARNING = {'data': {'text/html':\n",
       "     \"<div style='background-color: #fdd'>\\n\"+\n",
       "     \"<p>\\n\"+\n",
       "     \"BokehJS does not appear to have successfully loaded. If loading BokehJS from CDN, this \\n\"+\n",
       "     \"may be due to a slow or bad network connection. Possible fixes:\\n\"+\n",
       "     \"</p>\\n\"+\n",
       "     \"<ul>\\n\"+\n",
       "     \"<li>re-rerun `output_notebook()` to attempt to load from CDN again, or</li>\\n\"+\n",
       "     \"<li>use INLINE resources instead, as so:</li>\\n\"+\n",
       "     \"</ul>\\n\"+\n",
       "     \"<code>\\n\"+\n",
       "     \"from bokeh.resources import INLINE\\n\"+\n",
       "     \"output_notebook(resources=INLINE)\\n\"+\n",
       "     \"</code>\\n\"+\n",
       "     \"</div>\"}};\n",
       "\n",
       "  function display_loaded(error = null) {\n",
       "    const el = document.getElementById(\"d1ca6494-431d-478a-ba18-8978fd4b3694\");\n",
       "    if (el != null) {\n",
       "      const html = (() => {\n",
       "        if (typeof root.Bokeh === \"undefined\") {\n",
       "          if (error == null) {\n",
       "            return \"BokehJS is loading ...\";\n",
       "          } else {\n",
       "            return \"BokehJS failed to load.\";\n",
       "          }\n",
       "        } else {\n",
       "          const prefix = `BokehJS ${root.Bokeh.version}`;\n",
       "          if (error == null) {\n",
       "            return `${prefix} successfully loaded.`;\n",
       "          } else {\n",
       "            return `${prefix} <b>encountered errors</b> while loading and may not function as expected.`;\n",
       "          }\n",
       "        }\n",
       "      })();\n",
       "      el.innerHTML = html;\n",
       "\n",
       "      if (error != null) {\n",
       "        const wrapper = document.createElement(\"div\");\n",
       "        wrapper.style.overflow = \"auto\";\n",
       "        wrapper.style.height = \"5em\";\n",
       "        wrapper.style.resize = \"vertical\";\n",
       "        const content = document.createElement(\"div\");\n",
       "        content.style.fontFamily = \"monospace\";\n",
       "        content.style.whiteSpace = \"pre-wrap\";\n",
       "        content.style.backgroundColor = \"rgb(255, 221, 221)\";\n",
       "        content.textContent = error.stack ?? error.toString();\n",
       "        wrapper.append(content);\n",
       "        el.append(wrapper);\n",
       "      }\n",
       "    } else if (Date.now() < root._bokeh_timeout) {\n",
       "      setTimeout(() => display_loaded(error), 100);\n",
       "    }\n",
       "  }\n",
       "\n",
       "  function run_callbacks() {\n",
       "    try {\n",
       "      root._bokeh_onload_callbacks.forEach(function(callback) {\n",
       "        if (callback != null)\n",
       "          callback();\n",
       "      });\n",
       "    } finally {\n",
       "      delete root._bokeh_onload_callbacks\n",
       "    }\n",
       "    console.debug(\"Bokeh: all callbacks have finished\");\n",
       "  }\n",
       "\n",
       "  function load_libs(css_urls, js_urls, callback) {\n",
       "    if (css_urls == null) css_urls = [];\n",
       "    if (js_urls == null) js_urls = [];\n",
       "\n",
       "    root._bokeh_onload_callbacks.push(callback);\n",
       "    if (root._bokeh_is_loading > 0) {\n",
       "      console.debug(\"Bokeh: BokehJS is being loaded, scheduling callback at\", now());\n",
       "      return null;\n",
       "    }\n",
       "    if (js_urls == null || js_urls.length === 0) {\n",
       "      run_callbacks();\n",
       "      return null;\n",
       "    }\n",
       "    console.debug(\"Bokeh: BokehJS not loaded, scheduling load and callback at\", now());\n",
       "    root._bokeh_is_loading = css_urls.length + js_urls.length;\n",
       "\n",
       "    function on_load() {\n",
       "      root._bokeh_is_loading--;\n",
       "      if (root._bokeh_is_loading === 0) {\n",
       "        console.debug(\"Bokeh: all BokehJS libraries/stylesheets loaded\");\n",
       "        run_callbacks()\n",
       "      }\n",
       "    }\n",
       "\n",
       "    function on_error(url) {\n",
       "      console.error(\"failed to load \" + url);\n",
       "    }\n",
       "\n",
       "    for (let i = 0; i < css_urls.length; i++) {\n",
       "      const url = css_urls[i];\n",
       "      const element = document.createElement(\"link\");\n",
       "      element.onload = on_load;\n",
       "      element.onerror = on_error.bind(null, url);\n",
       "      element.rel = \"stylesheet\";\n",
       "      element.type = \"text/css\";\n",
       "      element.href = url;\n",
       "      console.debug(\"Bokeh: injecting link tag for BokehJS stylesheet: \", url);\n",
       "      document.body.appendChild(element);\n",
       "    }\n",
       "\n",
       "    for (let i = 0; i < js_urls.length; i++) {\n",
       "      const url = js_urls[i];\n",
       "      const element = document.createElement('script');\n",
       "      element.onload = on_load;\n",
       "      element.onerror = on_error.bind(null, url);\n",
       "      element.async = false;\n",
       "      element.src = url;\n",
       "      console.debug(\"Bokeh: injecting script tag for BokehJS library: \", url);\n",
       "      document.head.appendChild(element);\n",
       "    }\n",
       "  };\n",
       "\n",
       "  function inject_raw_css(css) {\n",
       "    const element = document.createElement(\"style\");\n",
       "    element.appendChild(document.createTextNode(css));\n",
       "    document.body.appendChild(element);\n",
       "  }\n",
       "\n",
       "  const js_urls = [\"https://cdn.bokeh.org/bokeh/release/bokeh-3.4.1.min.js\", \"https://cdn.bokeh.org/bokeh/release/bokeh-gl-3.4.1.min.js\", \"https://cdn.bokeh.org/bokeh/release/bokeh-widgets-3.4.1.min.js\", \"https://cdn.bokeh.org/bokeh/release/bokeh-tables-3.4.1.min.js\", \"https://cdn.bokeh.org/bokeh/release/bokeh-mathjax-3.4.1.min.js\"];\n",
       "  const css_urls = [];\n",
       "\n",
       "  const inline_js = [    function(Bokeh) {\n",
       "      Bokeh.set_log_level(\"info\");\n",
       "    },\n",
       "function(Bokeh) {\n",
       "    }\n",
       "  ];\n",
       "\n",
       "  function run_inline_js() {\n",
       "    if (root.Bokeh !== undefined || force === true) {\n",
       "      try {\n",
       "            for (let i = 0; i < inline_js.length; i++) {\n",
       "      inline_js[i].call(root, root.Bokeh);\n",
       "    }\n",
       "\n",
       "      } catch (error) {display_loaded(error);throw error;\n",
       "      }if (force === true) {\n",
       "        display_loaded();\n",
       "      }} else if (Date.now() < root._bokeh_timeout) {\n",
       "      setTimeout(run_inline_js, 100);\n",
       "    } else if (!root._bokeh_failed_load) {\n",
       "      console.log(\"Bokeh: BokehJS failed to load within specified timeout.\");\n",
       "      root._bokeh_failed_load = true;\n",
       "    } else if (force !== true) {\n",
       "      const cell = $(document.getElementById(\"d1ca6494-431d-478a-ba18-8978fd4b3694\")).parents('.cell').data().cell;\n",
       "      cell.output_area.append_execute_result(NB_LOAD_WARNING)\n",
       "    }\n",
       "  }\n",
       "\n",
       "  if (root._bokeh_is_loading === 0) {\n",
       "    console.debug(\"Bokeh: BokehJS loaded, going straight to plotting\");\n",
       "    run_inline_js();\n",
       "  } else {\n",
       "    load_libs(css_urls, js_urls, function() {\n",
       "      console.debug(\"Bokeh: BokehJS plotting callback run at\", now());\n",
       "      run_inline_js();\n",
       "    });\n",
       "  }\n",
       "}(window));"
      ],
      "application/vnd.bokehjs_load.v0+json": "'use strict';\n(function(root) {\n  function now() {\n    return new Date();\n  }\n\n  const force = true;\n\n  if (typeof root._bokeh_onload_callbacks === \"undefined\" || force === true) {\n    root._bokeh_onload_callbacks = [];\n    root._bokeh_is_loading = undefined;\n  }\n\n\n  if (typeof (root._bokeh_timeout) === \"undefined\" || force === true) {\n    root._bokeh_timeout = Date.now() + 5000;\n    root._bokeh_failed_load = false;\n  }\n\n  const NB_LOAD_WARNING = {'data': {'text/html':\n     \"<div style='background-color: #fdd'>\\n\"+\n     \"<p>\\n\"+\n     \"BokehJS does not appear to have successfully loaded. If loading BokehJS from CDN, this \\n\"+\n     \"may be due to a slow or bad network connection. Possible fixes:\\n\"+\n     \"</p>\\n\"+\n     \"<ul>\\n\"+\n     \"<li>re-rerun `output_notebook()` to attempt to load from CDN again, or</li>\\n\"+\n     \"<li>use INLINE resources instead, as so:</li>\\n\"+\n     \"</ul>\\n\"+\n     \"<code>\\n\"+\n     \"from bokeh.resources import INLINE\\n\"+\n     \"output_notebook(resources=INLINE)\\n\"+\n     \"</code>\\n\"+\n     \"</div>\"}};\n\n  function display_loaded(error = null) {\n    const el = document.getElementById(\"d1ca6494-431d-478a-ba18-8978fd4b3694\");\n    if (el != null) {\n      const html = (() => {\n        if (typeof root.Bokeh === \"undefined\") {\n          if (error == null) {\n            return \"BokehJS is loading ...\";\n          } else {\n            return \"BokehJS failed to load.\";\n          }\n        } else {\n          const prefix = `BokehJS ${root.Bokeh.version}`;\n          if (error == null) {\n            return `${prefix} successfully loaded.`;\n          } else {\n            return `${prefix} <b>encountered errors</b> while loading and may not function as expected.`;\n          }\n        }\n      })();\n      el.innerHTML = html;\n\n      if (error != null) {\n        const wrapper = document.createElement(\"div\");\n        wrapper.style.overflow = \"auto\";\n        wrapper.style.height = \"5em\";\n        wrapper.style.resize = \"vertical\";\n        const content = document.createElement(\"div\");\n        content.style.fontFamily = \"monospace\";\n        content.style.whiteSpace = \"pre-wrap\";\n        content.style.backgroundColor = \"rgb(255, 221, 221)\";\n        content.textContent = error.stack ?? error.toString();\n        wrapper.append(content);\n        el.append(wrapper);\n      }\n    } else if (Date.now() < root._bokeh_timeout) {\n      setTimeout(() => display_loaded(error), 100);\n    }\n  }\n\n  function run_callbacks() {\n    try {\n      root._bokeh_onload_callbacks.forEach(function(callback) {\n        if (callback != null)\n          callback();\n      });\n    } finally {\n      delete root._bokeh_onload_callbacks\n    }\n    console.debug(\"Bokeh: all callbacks have finished\");\n  }\n\n  function load_libs(css_urls, js_urls, callback) {\n    if (css_urls == null) css_urls = [];\n    if (js_urls == null) js_urls = [];\n\n    root._bokeh_onload_callbacks.push(callback);\n    if (root._bokeh_is_loading > 0) {\n      console.debug(\"Bokeh: BokehJS is being loaded, scheduling callback at\", now());\n      return null;\n    }\n    if (js_urls == null || js_urls.length === 0) {\n      run_callbacks();\n      return null;\n    }\n    console.debug(\"Bokeh: BokehJS not loaded, scheduling load and callback at\", now());\n    root._bokeh_is_loading = css_urls.length + js_urls.length;\n\n    function on_load() {\n      root._bokeh_is_loading--;\n      if (root._bokeh_is_loading === 0) {\n        console.debug(\"Bokeh: all BokehJS libraries/stylesheets loaded\");\n        run_callbacks()\n      }\n    }\n\n    function on_error(url) {\n      console.error(\"failed to load \" + url);\n    }\n\n    for (let i = 0; i < css_urls.length; i++) {\n      const url = css_urls[i];\n      const element = document.createElement(\"link\");\n      element.onload = on_load;\n      element.onerror = on_error.bind(null, url);\n      element.rel = \"stylesheet\";\n      element.type = \"text/css\";\n      element.href = url;\n      console.debug(\"Bokeh: injecting link tag for BokehJS stylesheet: \", url);\n      document.body.appendChild(element);\n    }\n\n    for (let i = 0; i < js_urls.length; i++) {\n      const url = js_urls[i];\n      const element = document.createElement('script');\n      element.onload = on_load;\n      element.onerror = on_error.bind(null, url);\n      element.async = false;\n      element.src = url;\n      console.debug(\"Bokeh: injecting script tag for BokehJS library: \", url);\n      document.head.appendChild(element);\n    }\n  };\n\n  function inject_raw_css(css) {\n    const element = document.createElement(\"style\");\n    element.appendChild(document.createTextNode(css));\n    document.body.appendChild(element);\n  }\n\n  const js_urls = [\"https://cdn.bokeh.org/bokeh/release/bokeh-3.4.1.min.js\", \"https://cdn.bokeh.org/bokeh/release/bokeh-gl-3.4.1.min.js\", \"https://cdn.bokeh.org/bokeh/release/bokeh-widgets-3.4.1.min.js\", \"https://cdn.bokeh.org/bokeh/release/bokeh-tables-3.4.1.min.js\", \"https://cdn.bokeh.org/bokeh/release/bokeh-mathjax-3.4.1.min.js\"];\n  const css_urls = [];\n\n  const inline_js = [    function(Bokeh) {\n      Bokeh.set_log_level(\"info\");\n    },\nfunction(Bokeh) {\n    }\n  ];\n\n  function run_inline_js() {\n    if (root.Bokeh !== undefined || force === true) {\n      try {\n            for (let i = 0; i < inline_js.length; i++) {\n      inline_js[i].call(root, root.Bokeh);\n    }\n\n      } catch (error) {display_loaded(error);throw error;\n      }if (force === true) {\n        display_loaded();\n      }} else if (Date.now() < root._bokeh_timeout) {\n      setTimeout(run_inline_js, 100);\n    } else if (!root._bokeh_failed_load) {\n      console.log(\"Bokeh: BokehJS failed to load within specified timeout.\");\n      root._bokeh_failed_load = true;\n    } else if (force !== true) {\n      const cell = $(document.getElementById(\"d1ca6494-431d-478a-ba18-8978fd4b3694\")).parents('.cell').data().cell;\n      cell.output_area.append_execute_result(NB_LOAD_WARNING)\n    }\n  }\n\n  if (root._bokeh_is_loading === 0) {\n    console.debug(\"Bokeh: BokehJS loaded, going straight to plotting\");\n    run_inline_js();\n  } else {\n    load_libs(css_urls, js_urls, function() {\n      console.debug(\"Bokeh: BokehJS plotting callback run at\", now());\n      run_inline_js();\n    });\n  }\n}(window));"
     },
     "metadata": {},
     "output_type": "display_data"
    }
   ],
   "source": [
    "import os\n",
    "import bokeh\n",
    "from bokeh.plotting import show\n",
    "import pandas as pd\n",
    "import numpy as np\n",
    "import torch\n",
    "\n",
    "import flowkit as fk\n",
    "import seaborn as sns\n",
    "import matplotlib.pyplot as plt\n",
    "\n",
    "bokeh.io.output_notebook()"
   ]
  },
  {
   "cell_type": "code",
   "execution_count": 2,
   "id": "d06662da-c987-4df8-9e55-ba23f8297579",
   "metadata": {},
   "outputs": [
    {
     "data": {
      "text/html": [
       "<div>\n",
       "<style scoped>\n",
       "    .dataframe tbody tr th:only-of-type {\n",
       "        vertical-align: middle;\n",
       "    }\n",
       "\n",
       "    .dataframe tbody tr th {\n",
       "        vertical-align: top;\n",
       "    }\n",
       "\n",
       "    .dataframe thead th {\n",
       "        text-align: right;\n",
       "    }\n",
       "</style>\n",
       "<table border=\"1\" class=\"dataframe\">\n",
       "  <thead>\n",
       "    <tr style=\"text-align: right;\">\n",
       "      <th></th>\n",
       "      <th>Subject Accession</th>\n",
       "      <th>FCS Raw</th>\n",
       "      <th>FCS Preprocessed</th>\n",
       "      <th>WSP File</th>\n",
       "      <th>HAI Mean</th>\n",
       "      <th>HAI Class</th>\n",
       "    </tr>\n",
       "  </thead>\n",
       "  <tbody>\n",
       "    <tr>\n",
       "      <th>0</th>\n",
       "      <td>SUB120420</td>\n",
       "      <td>Panel_L1_A1_L1_110194_PBMC_10112011_A01.580227...</td>\n",
       "      <td>export_Panel_L1_A1_L1_110194_PBMC_10112011_A01...</td>\n",
       "      <td>Panel_L1_Run_2.804556.wsp</td>\n",
       "      <td>4.666667</td>\n",
       "      <td>0</td>\n",
       "    </tr>\n",
       "    <tr>\n",
       "      <th>1</th>\n",
       "      <td>SUB120423</td>\n",
       "      <td>Panel_L1_A2_L1_110197_PBMC_10112011_A02.579447...</td>\n",
       "      <td>export_Panel_L1_A2_L1_110197_PBMC_10112011_A02...</td>\n",
       "      <td>Panel_L1_Run_1.804538.wsp</td>\n",
       "      <td>5.333333</td>\n",
       "      <td>0</td>\n",
       "    </tr>\n",
       "    <tr>\n",
       "      <th>2</th>\n",
       "      <td>SUB120445</td>\n",
       "      <td>Panel_L1_A3_L1_110243_PBMC_10172011_A03.578999...</td>\n",
       "      <td>export_Panel_L1_A3_L1_110243_PBMC_10172011_A03...</td>\n",
       "      <td>Panel_L1_Run_4.804574.wsp</td>\n",
       "      <td>4.666667</td>\n",
       "      <td>0</td>\n",
       "    </tr>\n",
       "    <tr>\n",
       "      <th>3</th>\n",
       "      <td>SUB120446</td>\n",
       "      <td>Panel_L1_A1_L1_110244_PBMC_10172011_A01.579604...</td>\n",
       "      <td>export_Panel_L1_A1_L1_110244_PBMC_10172011_A01...</td>\n",
       "      <td>Panel_L1_Run_5.804583.wsp</td>\n",
       "      <td>8.000000</td>\n",
       "      <td>1</td>\n",
       "    </tr>\n",
       "    <tr>\n",
       "      <th>4</th>\n",
       "      <td>SUB120449</td>\n",
       "      <td>Panel_L1_E3_L1_110247_PBMC_10172011_E03.580335...</td>\n",
       "      <td>export_Panel_L1_E3_L1_110247_PBMC_10172011_E03...</td>\n",
       "      <td>Panel_L1_Run_4.804574.wsp</td>\n",
       "      <td>7.666667</td>\n",
       "      <td>1</td>\n",
       "    </tr>\n",
       "    <tr>\n",
       "      <th>5</th>\n",
       "      <td>SUB120450</td>\n",
       "      <td>Panel_L1_E1_L1_110248_PBMC_10172011_E01.578572...</td>\n",
       "      <td>export_Panel_L1_E1_L1_110248_PBMC_10172011_E01...</td>\n",
       "      <td>Panel_L1_Run_5.804583.wsp</td>\n",
       "      <td>5.000000</td>\n",
       "      <td>0</td>\n",
       "    </tr>\n",
       "    <tr>\n",
       "      <th>6</th>\n",
       "      <td>SUB120452</td>\n",
       "      <td>Panel_L1_A2_L1_110250_PBMC_10172011_A02.579307...</td>\n",
       "      <td>export_Panel_L1_A2_L1_110250_PBMC_10172011_A02...</td>\n",
       "      <td>Panel_L1_Run_5.804583.wsp</td>\n",
       "      <td>7.000000</td>\n",
       "      <td>1</td>\n",
       "    </tr>\n",
       "    <tr>\n",
       "      <th>7</th>\n",
       "      <td>SUB120457</td>\n",
       "      <td>Panel_L1_E2_L1_110255_PBMC_10172011_E02.580138...</td>\n",
       "      <td>export_Panel_L1_E2_L1_110255_PBMC_10172011_E02...</td>\n",
       "      <td>Panel_L1_Run_5.804583.wsp</td>\n",
       "      <td>6.333333</td>\n",
       "      <td>0</td>\n",
       "    </tr>\n",
       "    <tr>\n",
       "      <th>8</th>\n",
       "      <td>SUB120458</td>\n",
       "      <td>Panel_L1_A3_L1_110256_PBMC_10172011_A03.579670...</td>\n",
       "      <td>export_Panel_L1_A3_L1_110256_PBMC_10172011_A03...</td>\n",
       "      <td>Panel_L1_Run_5.804583.wsp</td>\n",
       "      <td>6.333333</td>\n",
       "      <td>0</td>\n",
       "    </tr>\n",
       "    <tr>\n",
       "      <th>9</th>\n",
       "      <td>SUB120459</td>\n",
       "      <td>Panel_L1_A1_L1_110257_PBMC_10172011_A01.580299...</td>\n",
       "      <td>export_Panel_L1_A1_L1_110257_PBMC_10172011_A01...</td>\n",
       "      <td>Panel_L1_Run_6.804592.wsp</td>\n",
       "      <td>6.000000</td>\n",
       "      <td>0</td>\n",
       "    </tr>\n",
       "    <tr>\n",
       "      <th>10</th>\n",
       "      <td>SUB120460</td>\n",
       "      <td>Panel_L1_E1_L1_110258_PBMC_10172011_E01.579967...</td>\n",
       "      <td>export_Panel_L1_E1_L1_110258_PBMC_10172011_E01...</td>\n",
       "      <td>Panel_L1_Run_6.804592.wsp</td>\n",
       "      <td>6.666667</td>\n",
       "      <td>1</td>\n",
       "    </tr>\n",
       "    <tr>\n",
       "      <th>11</th>\n",
       "      <td>SUB120461</td>\n",
       "      <td>Panel_L1_E3_L1_110259_PBMC_10172011_E03.578407...</td>\n",
       "      <td>export_Panel_L1_E3_L1_110259_PBMC_10172011_E03...</td>\n",
       "      <td>Panel_L1_Run_6.804592.wsp</td>\n",
       "      <td>6.666667</td>\n",
       "      <td>1</td>\n",
       "    </tr>\n",
       "    <tr>\n",
       "      <th>12</th>\n",
       "      <td>SUB120462</td>\n",
       "      <td>Panel_L1_A2_L1_110260_PBMC_10172011_A02.578398...</td>\n",
       "      <td>export_Panel_L1_A2_L1_110260_PBMC_10172011_A02...</td>\n",
       "      <td>Panel_L1_Run_6.804592.wsp</td>\n",
       "      <td>4.333333</td>\n",
       "      <td>0</td>\n",
       "    </tr>\n",
       "    <tr>\n",
       "      <th>13</th>\n",
       "      <td>SUB120467</td>\n",
       "      <td>Panel_L1_A3_L1_110265_PBMC_10172011_A03.578294...</td>\n",
       "      <td>export_Panel_L1_A3_L1_110265_PBMC_10172011_A03...</td>\n",
       "      <td>Panel_L1_Run_6.804592.wsp</td>\n",
       "      <td>7.666667</td>\n",
       "      <td>1</td>\n",
       "    </tr>\n",
       "    <tr>\n",
       "      <th>14</th>\n",
       "      <td>SUB120469</td>\n",
       "      <td>Panel_L1_A1_L1_110267_PBMC_10172011_A01.579602...</td>\n",
       "      <td>export_Panel_L1_A1_L1_110267_PBMC_10172011_A01...</td>\n",
       "      <td>Panel_L1_Run_7-regated.804601.wsp</td>\n",
       "      <td>7.000000</td>\n",
       "      <td>1</td>\n",
       "    </tr>\n",
       "    <tr>\n",
       "      <th>15</th>\n",
       "      <td>SUB120470</td>\n",
       "      <td>Panel_L1_E1_L1_110268_PBMC_10172011_E01.578748...</td>\n",
       "      <td>export_Panel_L1_E1_L1_110268_PBMC_10172011_E01...</td>\n",
       "      <td>Panel_L1_Run_7-regated.804601.wsp</td>\n",
       "      <td>6.666667</td>\n",
       "      <td>1</td>\n",
       "    </tr>\n",
       "    <tr>\n",
       "      <th>16</th>\n",
       "      <td>SUB120471</td>\n",
       "      <td>Panel_L1_E3_L1_110269_PBMC_10172011_E03.579084...</td>\n",
       "      <td>export_Panel_L1_E3_L1_110269_PBMC_10172011_E03...</td>\n",
       "      <td>Panel_L1_Run_7-regated.804601.wsp</td>\n",
       "      <td>7.666667</td>\n",
       "      <td>1</td>\n",
       "    </tr>\n",
       "    <tr>\n",
       "      <th>17</th>\n",
       "      <td>SUB120472</td>\n",
       "      <td>Panel_L1_E3_L1_110270_PBMC_10172011_E03.579624...</td>\n",
       "      <td>export_Panel_L1_E3_L1_110270_PBMC_10172011_E03...</td>\n",
       "      <td>Panel_L1_Run_8-regated.804610.wsp</td>\n",
       "      <td>6.000000</td>\n",
       "      <td>0</td>\n",
       "    </tr>\n",
       "    <tr>\n",
       "      <th>18</th>\n",
       "      <td>SUB120473</td>\n",
       "      <td>Panel_L1_A2_L1_110271_PBMC_10172011_A02.579258...</td>\n",
       "      <td>export_Panel_L1_A2_L1_110271_PBMC_10172011_A02...</td>\n",
       "      <td>Panel_L1_Run_7-regated.804601.wsp</td>\n",
       "      <td>5.000000</td>\n",
       "      <td>0</td>\n",
       "    </tr>\n",
       "    <tr>\n",
       "      <th>19</th>\n",
       "      <td>SUB120474</td>\n",
       "      <td>Panel_L1_E2_L1_110272_PBMC_10172011_E02.578501...</td>\n",
       "      <td>export_Panel_L1_E2_L1_110272_PBMC_10172011_E02...</td>\n",
       "      <td>Panel_L1_Run_7-regated.804601.wsp</td>\n",
       "      <td>6.666667</td>\n",
       "      <td>1</td>\n",
       "    </tr>\n",
       "  </tbody>\n",
       "</table>\n",
       "</div>"
      ],
      "text/plain": [
       "   Subject Accession                                            FCS Raw  \\\n",
       "0          SUB120420  Panel_L1_A1_L1_110194_PBMC_10112011_A01.580227...   \n",
       "1          SUB120423  Panel_L1_A2_L1_110197_PBMC_10112011_A02.579447...   \n",
       "2          SUB120445  Panel_L1_A3_L1_110243_PBMC_10172011_A03.578999...   \n",
       "3          SUB120446  Panel_L1_A1_L1_110244_PBMC_10172011_A01.579604...   \n",
       "4          SUB120449  Panel_L1_E3_L1_110247_PBMC_10172011_E03.580335...   \n",
       "5          SUB120450  Panel_L1_E1_L1_110248_PBMC_10172011_E01.578572...   \n",
       "6          SUB120452  Panel_L1_A2_L1_110250_PBMC_10172011_A02.579307...   \n",
       "7          SUB120457  Panel_L1_E2_L1_110255_PBMC_10172011_E02.580138...   \n",
       "8          SUB120458  Panel_L1_A3_L1_110256_PBMC_10172011_A03.579670...   \n",
       "9          SUB120459  Panel_L1_A1_L1_110257_PBMC_10172011_A01.580299...   \n",
       "10         SUB120460  Panel_L1_E1_L1_110258_PBMC_10172011_E01.579967...   \n",
       "11         SUB120461  Panel_L1_E3_L1_110259_PBMC_10172011_E03.578407...   \n",
       "12         SUB120462  Panel_L1_A2_L1_110260_PBMC_10172011_A02.578398...   \n",
       "13         SUB120467  Panel_L1_A3_L1_110265_PBMC_10172011_A03.578294...   \n",
       "14         SUB120469  Panel_L1_A1_L1_110267_PBMC_10172011_A01.579602...   \n",
       "15         SUB120470  Panel_L1_E1_L1_110268_PBMC_10172011_E01.578748...   \n",
       "16         SUB120471  Panel_L1_E3_L1_110269_PBMC_10172011_E03.579084...   \n",
       "17         SUB120472  Panel_L1_E3_L1_110270_PBMC_10172011_E03.579624...   \n",
       "18         SUB120473  Panel_L1_A2_L1_110271_PBMC_10172011_A02.579258...   \n",
       "19         SUB120474  Panel_L1_E2_L1_110272_PBMC_10172011_E02.578501...   \n",
       "\n",
       "                                     FCS Preprocessed  \\\n",
       "0   export_Panel_L1_A1_L1_110194_PBMC_10112011_A01...   \n",
       "1   export_Panel_L1_A2_L1_110197_PBMC_10112011_A02...   \n",
       "2   export_Panel_L1_A3_L1_110243_PBMC_10172011_A03...   \n",
       "3   export_Panel_L1_A1_L1_110244_PBMC_10172011_A01...   \n",
       "4   export_Panel_L1_E3_L1_110247_PBMC_10172011_E03...   \n",
       "5   export_Panel_L1_E1_L1_110248_PBMC_10172011_E01...   \n",
       "6   export_Panel_L1_A2_L1_110250_PBMC_10172011_A02...   \n",
       "7   export_Panel_L1_E2_L1_110255_PBMC_10172011_E02...   \n",
       "8   export_Panel_L1_A3_L1_110256_PBMC_10172011_A03...   \n",
       "9   export_Panel_L1_A1_L1_110257_PBMC_10172011_A01...   \n",
       "10  export_Panel_L1_E1_L1_110258_PBMC_10172011_E01...   \n",
       "11  export_Panel_L1_E3_L1_110259_PBMC_10172011_E03...   \n",
       "12  export_Panel_L1_A2_L1_110260_PBMC_10172011_A02...   \n",
       "13  export_Panel_L1_A3_L1_110265_PBMC_10172011_A03...   \n",
       "14  export_Panel_L1_A1_L1_110267_PBMC_10172011_A01...   \n",
       "15  export_Panel_L1_E1_L1_110268_PBMC_10172011_E01...   \n",
       "16  export_Panel_L1_E3_L1_110269_PBMC_10172011_E03...   \n",
       "17  export_Panel_L1_E3_L1_110270_PBMC_10172011_E03...   \n",
       "18  export_Panel_L1_A2_L1_110271_PBMC_10172011_A02...   \n",
       "19  export_Panel_L1_E2_L1_110272_PBMC_10172011_E02...   \n",
       "\n",
       "                             WSP File  HAI Mean  HAI Class  \n",
       "0           Panel_L1_Run_2.804556.wsp  4.666667          0  \n",
       "1           Panel_L1_Run_1.804538.wsp  5.333333          0  \n",
       "2           Panel_L1_Run_4.804574.wsp  4.666667          0  \n",
       "3           Panel_L1_Run_5.804583.wsp  8.000000          1  \n",
       "4           Panel_L1_Run_4.804574.wsp  7.666667          1  \n",
       "5           Panel_L1_Run_5.804583.wsp  5.000000          0  \n",
       "6           Panel_L1_Run_5.804583.wsp  7.000000          1  \n",
       "7           Panel_L1_Run_5.804583.wsp  6.333333          0  \n",
       "8           Panel_L1_Run_5.804583.wsp  6.333333          0  \n",
       "9           Panel_L1_Run_6.804592.wsp  6.000000          0  \n",
       "10          Panel_L1_Run_6.804592.wsp  6.666667          1  \n",
       "11          Panel_L1_Run_6.804592.wsp  6.666667          1  \n",
       "12          Panel_L1_Run_6.804592.wsp  4.333333          0  \n",
       "13          Panel_L1_Run_6.804592.wsp  7.666667          1  \n",
       "14  Panel_L1_Run_7-regated.804601.wsp  7.000000          1  \n",
       "15  Panel_L1_Run_7-regated.804601.wsp  6.666667          1  \n",
       "16  Panel_L1_Run_7-regated.804601.wsp  7.666667          1  \n",
       "17  Panel_L1_Run_8-regated.804610.wsp  6.000000          0  \n",
       "18  Panel_L1_Run_7-regated.804601.wsp  5.000000          0  \n",
       "19  Panel_L1_Run_7-regated.804601.wsp  6.666667          1  "
      ]
     },
     "execution_count": 2,
     "metadata": {},
     "output_type": "execute_result"
    }
   ],
   "source": [
    "#load in patient dataset\n",
    "flow_data = pd.read_csv(\"flow_data.csv\")\n",
    "flow_data"
   ]
  },
  {
   "cell_type": "code",
   "execution_count": 3,
   "id": "5d633516-fb4d-4c11-8c6d-5823a8bc263d",
   "metadata": {},
   "outputs": [
    {
     "data": {
      "text/html": [
       "<div>\n",
       "<style scoped>\n",
       "    .dataframe tbody tr th:only-of-type {\n",
       "        vertical-align: middle;\n",
       "    }\n",
       "\n",
       "    .dataframe tbody tr th {\n",
       "        vertical-align: top;\n",
       "    }\n",
       "\n",
       "    .dataframe thead th {\n",
       "        text-align: right;\n",
       "    }\n",
       "</style>\n",
       "<table border=\"1\" class=\"dataframe\">\n",
       "  <thead>\n",
       "    <tr style=\"text-align: right;\">\n",
       "      <th></th>\n",
       "      <th>Subject Accession</th>\n",
       "      <th>FCS Raw</th>\n",
       "      <th>FCS Preprocessed</th>\n",
       "      <th>HAI Mean</th>\n",
       "      <th>HAI Class</th>\n",
       "    </tr>\n",
       "  </thead>\n",
       "  <tbody>\n",
       "    <tr>\n",
       "      <th>0</th>\n",
       "      <td>SUB116519</td>\n",
       "      <td>083012-Mike-Study 15-2011-V1-15103_cells_found...</td>\n",
       "      <td>083012-Mike-Study 15-2011-V1-15103_cells_found...</td>\n",
       "      <td>8.655261</td>\n",
       "      <td>1</td>\n",
       "    </tr>\n",
       "    <tr>\n",
       "      <th>1</th>\n",
       "      <td>SUB116523</td>\n",
       "      <td>083012-Mike-Study 15-2011-V1-15107_cells_found...</td>\n",
       "      <td>083012-Mike-Study 15-2011-V1-15107_cells_found...</td>\n",
       "      <td>6.321928</td>\n",
       "      <td>0</td>\n",
       "    </tr>\n",
       "    <tr>\n",
       "      <th>2</th>\n",
       "      <td>SUB116524</td>\n",
       "      <td>083012-Mike-Study 15-2011-V1-15108_cells_found...</td>\n",
       "      <td>083012-Mike-Study 15-2011-V1-15108_cells_found...</td>\n",
       "      <td>6.988595</td>\n",
       "      <td>0</td>\n",
       "    </tr>\n",
       "    <tr>\n",
       "      <th>3</th>\n",
       "      <td>SUB116525</td>\n",
       "      <td>083012-Mike-Study 15-2011-V1-15109_cells_found...</td>\n",
       "      <td>083012-Mike-Study 15-2011-V1-15109_cells_found...</td>\n",
       "      <td>7.321928</td>\n",
       "      <td>1</td>\n",
       "    </tr>\n",
       "    <tr>\n",
       "      <th>4</th>\n",
       "      <td>SUB116526</td>\n",
       "      <td>083012-Mike-Study 15-2011-V1-15110_cells_found...</td>\n",
       "      <td>083012-Mike-Study 15-2011-V1-15110_cells_found...</td>\n",
       "      <td>5.321928</td>\n",
       "      <td>0</td>\n",
       "    </tr>\n",
       "    <tr>\n",
       "      <th>5</th>\n",
       "      <td>SUB116527</td>\n",
       "      <td>083012-Mike-Study 15-2011-V1-15111_cells_found...</td>\n",
       "      <td>083012-Mike-Study 15-2011-V1-15111_cells_found...</td>\n",
       "      <td>7.321928</td>\n",
       "      <td>1</td>\n",
       "    </tr>\n",
       "    <tr>\n",
       "      <th>6</th>\n",
       "      <td>SUB116528</td>\n",
       "      <td>083012-Mike-Study 15-2011-V1-15112_cells_found...</td>\n",
       "      <td>083012-Mike-Study 15-2011-V1-15112_cells_found...</td>\n",
       "      <td>7.655261</td>\n",
       "      <td>1</td>\n",
       "    </tr>\n",
       "    <tr>\n",
       "      <th>7</th>\n",
       "      <td>SUB116529</td>\n",
       "      <td>083012-Mike-Study 15-2011-V1-15113_cells_found...</td>\n",
       "      <td>083012-Mike-Study 15-2011-V1-15113_cells_found...</td>\n",
       "      <td>7.655261</td>\n",
       "      <td>1</td>\n",
       "    </tr>\n",
       "    <tr>\n",
       "      <th>8</th>\n",
       "      <td>SUB116530</td>\n",
       "      <td>083012-Mike-Study 15-2011-V1-15114_cells_found...</td>\n",
       "      <td>083012-Mike-Study 15-2011-V1-15114_cells_found...</td>\n",
       "      <td>6.988595</td>\n",
       "      <td>0</td>\n",
       "    </tr>\n",
       "    <tr>\n",
       "      <th>9</th>\n",
       "      <td>SUB116531</td>\n",
       "      <td>083012-Mike-Study 15-2011-V1-15115_cells_found...</td>\n",
       "      <td>083012-Mike-Study 15-2011-V1-15115_cells_found...</td>\n",
       "      <td>7.655261</td>\n",
       "      <td>1</td>\n",
       "    </tr>\n",
       "    <tr>\n",
       "      <th>10</th>\n",
       "      <td>SUB116532</td>\n",
       "      <td>083012-Mike-Study 15-2011-V1-15118_cells_found...</td>\n",
       "      <td>083012-Mike-Study 15-2011-V1-15118_cells_found...</td>\n",
       "      <td>6.655261</td>\n",
       "      <td>0</td>\n",
       "    </tr>\n",
       "    <tr>\n",
       "      <th>11</th>\n",
       "      <td>SUB116534</td>\n",
       "      <td>090512-Study 15-2011-15120_cells_found.504174.fcs</td>\n",
       "      <td>090512-Study 15-2011-15120_cells_found_preproc...</td>\n",
       "      <td>7.321928</td>\n",
       "      <td>1</td>\n",
       "    </tr>\n",
       "    <tr>\n",
       "      <th>12</th>\n",
       "      <td>SUB116535</td>\n",
       "      <td>083012-Mike-Study 15-2011-V1-15121_cells_found...</td>\n",
       "      <td>083012-Mike-Study 15-2011-V1-15121_cells_found...</td>\n",
       "      <td>6.321928</td>\n",
       "      <td>0</td>\n",
       "    </tr>\n",
       "    <tr>\n",
       "      <th>13</th>\n",
       "      <td>SUB116536</td>\n",
       "      <td>090512-Study 15-2011-15122_cells_found.504176.fcs</td>\n",
       "      <td>090512-Study 15-2011-15122_cells_found_preproc...</td>\n",
       "      <td>7.655261</td>\n",
       "      <td>1</td>\n",
       "    </tr>\n",
       "    <tr>\n",
       "      <th>14</th>\n",
       "      <td>SUB134242</td>\n",
       "      <td>090712-Mike-Study 15-2011-15010_cells_found.50...</td>\n",
       "      <td>090712-Mike-Study 15-2011-15010_cells_found_pr...</td>\n",
       "      <td>7.348245</td>\n",
       "      <td>1</td>\n",
       "    </tr>\n",
       "    <tr>\n",
       "      <th>15</th>\n",
       "      <td>SUB134249</td>\n",
       "      <td>090512-Study 15-2011-15018_cells_found.504100.fcs</td>\n",
       "      <td>090512-Study 15-2011-15018_cells_found_preproc...</td>\n",
       "      <td>8.321928</td>\n",
       "      <td>1</td>\n",
       "    </tr>\n",
       "    <tr>\n",
       "      <th>16</th>\n",
       "      <td>SUB134250</td>\n",
       "      <td>090512-Study 15-2011-15019_cells_found.504101.fcs</td>\n",
       "      <td>090512-Study 15-2011-15019_cells_found_preproc...</td>\n",
       "      <td>7.655261</td>\n",
       "      <td>1</td>\n",
       "    </tr>\n",
       "    <tr>\n",
       "      <th>17</th>\n",
       "      <td>SUB134251</td>\n",
       "      <td>090712-Mike-Study 15-2011-15020_cells_found.50...</td>\n",
       "      <td>090712-Mike-Study 15-2011-15020_cells_found_pr...</td>\n",
       "      <td>6.988595</td>\n",
       "      <td>0</td>\n",
       "    </tr>\n",
       "    <tr>\n",
       "      <th>18</th>\n",
       "      <td>SUB134252</td>\n",
       "      <td>090712-Mike-Study 15-2011-15021_cells_found.50...</td>\n",
       "      <td>090712-Mike-Study 15-2011-15021_cells_found_pr...</td>\n",
       "      <td>6.655261</td>\n",
       "      <td>0</td>\n",
       "    </tr>\n",
       "    <tr>\n",
       "      <th>19</th>\n",
       "      <td>SUB134253</td>\n",
       "      <td>090712-Mike-Study 15-2011-15022_cells_found.50...</td>\n",
       "      <td>090712-Mike-Study 15-2011-15022_cells_found_pr...</td>\n",
       "      <td>7.321928</td>\n",
       "      <td>1</td>\n",
       "    </tr>\n",
       "    <tr>\n",
       "      <th>20</th>\n",
       "      <td>SUB134293</td>\n",
       "      <td>082812-Mike-Study 15-2011-15065_cells_found.50...</td>\n",
       "      <td>082812-Mike-Study 15-2011-15065_cells_found_pr...</td>\n",
       "      <td>6.988595</td>\n",
       "      <td>0</td>\n",
       "    </tr>\n",
       "    <tr>\n",
       "      <th>21</th>\n",
       "      <td>SUB134303</td>\n",
       "      <td>082812-Mike-Study 15-2011-15075_cells_found.50...</td>\n",
       "      <td>082812-Mike-Study 15-2011-15075_cells_found_pr...</td>\n",
       "      <td>5.321928</td>\n",
       "      <td>0</td>\n",
       "    </tr>\n",
       "    <tr>\n",
       "      <th>22</th>\n",
       "      <td>SUB134304</td>\n",
       "      <td>082812-Mike-Study 15-2011-15076_cells_found.50...</td>\n",
       "      <td>082812-Mike-Study 15-2011-15076_cells_found_pr...</td>\n",
       "      <td>7.988595</td>\n",
       "      <td>1</td>\n",
       "    </tr>\n",
       "    <tr>\n",
       "      <th>23</th>\n",
       "      <td>SUB134307</td>\n",
       "      <td>082812-Mike-Study 15-2011-15079_cells_found.50...</td>\n",
       "      <td>082812-Mike-Study 15-2011-15079_cells_found_pr...</td>\n",
       "      <td>6.988595</td>\n",
       "      <td>0</td>\n",
       "    </tr>\n",
       "    <tr>\n",
       "      <th>24</th>\n",
       "      <td>SUB134318</td>\n",
       "      <td>082812-Mike-Study 15-2011-15090_cells_found.50...</td>\n",
       "      <td>082812-Mike-Study 15-2011-15090_cells_found_pr...</td>\n",
       "      <td>5.988595</td>\n",
       "      <td>0</td>\n",
       "    </tr>\n",
       "    <tr>\n",
       "      <th>25</th>\n",
       "      <td>SUB134320</td>\n",
       "      <td>090512-Study 15-2011-15092_cells_found.504150.fcs</td>\n",
       "      <td>090512-Study 15-2011-15092_cells_found_preproc...</td>\n",
       "      <td>6.988595</td>\n",
       "      <td>0</td>\n",
       "    </tr>\n",
       "    <tr>\n",
       "      <th>26</th>\n",
       "      <td>SUB134322</td>\n",
       "      <td>083012-Mike-Study 15-2011-V1-15094_cells_found...</td>\n",
       "      <td>083012-Mike-Study 15-2011-V1-15094_cells_found...</td>\n",
       "      <td>6.655261</td>\n",
       "      <td>0</td>\n",
       "    </tr>\n",
       "    <tr>\n",
       "      <th>27</th>\n",
       "      <td>SUB134323</td>\n",
       "      <td>083012-Mike-Study 15-2011-V1-15095_cells_found...</td>\n",
       "      <td>083012-Mike-Study 15-2011-V1-15095_cells_found...</td>\n",
       "      <td>7.988595</td>\n",
       "      <td>1</td>\n",
       "    </tr>\n",
       "    <tr>\n",
       "      <th>28</th>\n",
       "      <td>SUB134324</td>\n",
       "      <td>082812-Mike-Study 15-2011-15096_cells_found.50...</td>\n",
       "      <td>082812-Mike-Study 15-2011-15096_cells_found_pr...</td>\n",
       "      <td>6.321928</td>\n",
       "      <td>0</td>\n",
       "    </tr>\n",
       "  </tbody>\n",
       "</table>\n",
       "</div>"
      ],
      "text/plain": [
       "   Subject Accession                                            FCS Raw  \\\n",
       "0          SUB116519  083012-Mike-Study 15-2011-V1-15103_cells_found...   \n",
       "1          SUB116523  083012-Mike-Study 15-2011-V1-15107_cells_found...   \n",
       "2          SUB116524  083012-Mike-Study 15-2011-V1-15108_cells_found...   \n",
       "3          SUB116525  083012-Mike-Study 15-2011-V1-15109_cells_found...   \n",
       "4          SUB116526  083012-Mike-Study 15-2011-V1-15110_cells_found...   \n",
       "5          SUB116527  083012-Mike-Study 15-2011-V1-15111_cells_found...   \n",
       "6          SUB116528  083012-Mike-Study 15-2011-V1-15112_cells_found...   \n",
       "7          SUB116529  083012-Mike-Study 15-2011-V1-15113_cells_found...   \n",
       "8          SUB116530  083012-Mike-Study 15-2011-V1-15114_cells_found...   \n",
       "9          SUB116531  083012-Mike-Study 15-2011-V1-15115_cells_found...   \n",
       "10         SUB116532  083012-Mike-Study 15-2011-V1-15118_cells_found...   \n",
       "11         SUB116534  090512-Study 15-2011-15120_cells_found.504174.fcs   \n",
       "12         SUB116535  083012-Mike-Study 15-2011-V1-15121_cells_found...   \n",
       "13         SUB116536  090512-Study 15-2011-15122_cells_found.504176.fcs   \n",
       "14         SUB134242  090712-Mike-Study 15-2011-15010_cells_found.50...   \n",
       "15         SUB134249  090512-Study 15-2011-15018_cells_found.504100.fcs   \n",
       "16         SUB134250  090512-Study 15-2011-15019_cells_found.504101.fcs   \n",
       "17         SUB134251  090712-Mike-Study 15-2011-15020_cells_found.50...   \n",
       "18         SUB134252  090712-Mike-Study 15-2011-15021_cells_found.50...   \n",
       "19         SUB134253  090712-Mike-Study 15-2011-15022_cells_found.50...   \n",
       "20         SUB134293  082812-Mike-Study 15-2011-15065_cells_found.50...   \n",
       "21         SUB134303  082812-Mike-Study 15-2011-15075_cells_found.50...   \n",
       "22         SUB134304  082812-Mike-Study 15-2011-15076_cells_found.50...   \n",
       "23         SUB134307  082812-Mike-Study 15-2011-15079_cells_found.50...   \n",
       "24         SUB134318  082812-Mike-Study 15-2011-15090_cells_found.50...   \n",
       "25         SUB134320  090512-Study 15-2011-15092_cells_found.504150.fcs   \n",
       "26         SUB134322  083012-Mike-Study 15-2011-V1-15094_cells_found...   \n",
       "27         SUB134323  083012-Mike-Study 15-2011-V1-15095_cells_found...   \n",
       "28         SUB134324  082812-Mike-Study 15-2011-15096_cells_found.50...   \n",
       "\n",
       "                                     FCS Preprocessed  HAI Mean  HAI Class  \n",
       "0   083012-Mike-Study 15-2011-V1-15103_cells_found...  8.655261          1  \n",
       "1   083012-Mike-Study 15-2011-V1-15107_cells_found...  6.321928          0  \n",
       "2   083012-Mike-Study 15-2011-V1-15108_cells_found...  6.988595          0  \n",
       "3   083012-Mike-Study 15-2011-V1-15109_cells_found...  7.321928          1  \n",
       "4   083012-Mike-Study 15-2011-V1-15110_cells_found...  5.321928          0  \n",
       "5   083012-Mike-Study 15-2011-V1-15111_cells_found...  7.321928          1  \n",
       "6   083012-Mike-Study 15-2011-V1-15112_cells_found...  7.655261          1  \n",
       "7   083012-Mike-Study 15-2011-V1-15113_cells_found...  7.655261          1  \n",
       "8   083012-Mike-Study 15-2011-V1-15114_cells_found...  6.988595          0  \n",
       "9   083012-Mike-Study 15-2011-V1-15115_cells_found...  7.655261          1  \n",
       "10  083012-Mike-Study 15-2011-V1-15118_cells_found...  6.655261          0  \n",
       "11  090512-Study 15-2011-15120_cells_found_preproc...  7.321928          1  \n",
       "12  083012-Mike-Study 15-2011-V1-15121_cells_found...  6.321928          0  \n",
       "13  090512-Study 15-2011-15122_cells_found_preproc...  7.655261          1  \n",
       "14  090712-Mike-Study 15-2011-15010_cells_found_pr...  7.348245          1  \n",
       "15  090512-Study 15-2011-15018_cells_found_preproc...  8.321928          1  \n",
       "16  090512-Study 15-2011-15019_cells_found_preproc...  7.655261          1  \n",
       "17  090712-Mike-Study 15-2011-15020_cells_found_pr...  6.988595          0  \n",
       "18  090712-Mike-Study 15-2011-15021_cells_found_pr...  6.655261          0  \n",
       "19  090712-Mike-Study 15-2011-15022_cells_found_pr...  7.321928          1  \n",
       "20  082812-Mike-Study 15-2011-15065_cells_found_pr...  6.988595          0  \n",
       "21  082812-Mike-Study 15-2011-15075_cells_found_pr...  5.321928          0  \n",
       "22  082812-Mike-Study 15-2011-15076_cells_found_pr...  7.988595          1  \n",
       "23  082812-Mike-Study 15-2011-15079_cells_found_pr...  6.988595          0  \n",
       "24  082812-Mike-Study 15-2011-15090_cells_found_pr...  5.988595          0  \n",
       "25  090512-Study 15-2011-15092_cells_found_preproc...  6.988595          0  \n",
       "26  083012-Mike-Study 15-2011-V1-15094_cells_found...  6.655261          0  \n",
       "27  083012-Mike-Study 15-2011-V1-15095_cells_found...  7.988595          1  \n",
       "28  082812-Mike-Study 15-2011-15096_cells_found_pr...  6.321928          0  "
      ]
     },
     "execution_count": 3,
     "metadata": {},
     "output_type": "execute_result"
    }
   ],
   "source": [
    "cytof_data = pd.read_csv(\"cytof_data.csv\")\n",
    "cytof_data"
   ]
  },
  {
   "cell_type": "code",
   "execution_count": 26,
   "id": "a7ecdbdc-0655-44fc-8cba-d80efc87a739",
   "metadata": {},
   "outputs": [],
   "source": [
    "#Sample Extraction Function\n",
    "def extractFCSDF(fileName, set, partition = \"base\", source = \"Raw\"):\n",
    "    #Set: CyTOF or Flow\n",
    "    path = \"\"\n",
    "    if source == \"Preprocessed\":\n",
    "        path = os.path.join(\"FCS\", set, \"Preprocessed\", fileName)\n",
    "    else:\n",
    "        path = os.path.join(\"FCS\", set, \"Raw\", fileName)\n",
    "    sample = None\n",
    "    if set == \"CyTOF\":\n",
    "        sample = fk.Sample(path)\n",
    "        t = fk.transforms.WSPBiexTransform(negative=0, width=-20, positive=5, max_value=199490)\n",
    "        sample.apply_transform(t)\n",
    "        sample = sample.as_dataframe()\n",
    "        sample.drop(['Time','Cell_length','(In115)Dd','(Nd142)Dd','(Nd146)Dd','(Sm147)Dd','(Sm149)Dd','(Sm154)Dd','(Gd156)Dd',\n",
    "                     '(Dy164)Dd','(Ho165)Dd','(Er166)Dd','(Er168)Dd','(Er170)Dd','(Yb171)Dd','(Yb174)Dd','(Yb176)Dd',\n",
    "                    '(Ir191)Dd','(Ir193)Dd'], level = 0, axis = 1, inplace = True)\n",
    "    if set == \"Flow\":\n",
    "        sample = fk.Sample(path)\n",
    "        t = fk.transforms.WSPBiexTransform(negative=0, width=-100, positive=4.48, max_value=300000)\n",
    "        sample.apply_transform(t)\n",
    "        sample = sample.as_dataframe()\n",
    "        sample.drop(['FSC-A','FSC-H','FSC-W','SSC-A','SSC-H','SSC-W','Time'], level = 0, axis = 1, inplace = True)\n",
    "        sample = sample.iloc[:,[6,1,7,0,3,4,5,2,8]]\n",
    "    sample.columns = sample.columns.droplevel()\n",
    "    if partition == \"known\":\n",
    "        sample = sample.iloc[:,[2, 5, 6, 8]]\n",
    "    return sample"
   ]
  },
  {
   "cell_type": "code",
   "execution_count": 5,
   "id": "e8f58e23-c7ae-4dec-9714-40c177cb58fb",
   "metadata": {},
   "outputs": [
    {
     "data": {
      "text/html": [
       "<div>\n",
       "<style scoped>\n",
       "    .dataframe tbody tr th:only-of-type {\n",
       "        vertical-align: middle;\n",
       "    }\n",
       "\n",
       "    .dataframe tbody tr th {\n",
       "        vertical-align: top;\n",
       "    }\n",
       "\n",
       "    .dataframe thead th {\n",
       "        text-align: right;\n",
       "    }\n",
       "</style>\n",
       "<table border=\"1\" class=\"dataframe\">\n",
       "  <thead>\n",
       "    <tr style=\"text-align: right;\">\n",
       "      <th>pns</th>\n",
       "      <th>CD3</th>\n",
       "      <th>CCR7</th>\n",
       "      <th>CD45RA</th>\n",
       "      <th>HLADR</th>\n",
       "    </tr>\n",
       "  </thead>\n",
       "  <tbody>\n",
       "    <tr>\n",
       "      <th>0</th>\n",
       "      <td>529.665010</td>\n",
       "      <td>554.371581</td>\n",
       "      <td>1317.589477</td>\n",
       "      <td>1997.696231</td>\n",
       "    </tr>\n",
       "    <tr>\n",
       "      <th>1</th>\n",
       "      <td>1154.370501</td>\n",
       "      <td>528.456224</td>\n",
       "      <td>1851.569346</td>\n",
       "      <td>570.263163</td>\n",
       "    </tr>\n",
       "    <tr>\n",
       "      <th>2</th>\n",
       "      <td>763.902462</td>\n",
       "      <td>1028.773099</td>\n",
       "      <td>637.616422</td>\n",
       "      <td>524.728425</td>\n",
       "    </tr>\n",
       "    <tr>\n",
       "      <th>3</th>\n",
       "      <td>1309.738624</td>\n",
       "      <td>1025.403300</td>\n",
       "      <td>546.073136</td>\n",
       "      <td>611.914617</td>\n",
       "    </tr>\n",
       "    <tr>\n",
       "      <th>4</th>\n",
       "      <td>527.381631</td>\n",
       "      <td>526.996530</td>\n",
       "      <td>596.343621</td>\n",
       "      <td>972.093862</td>\n",
       "    </tr>\n",
       "    <tr>\n",
       "      <th>...</th>\n",
       "      <td>...</td>\n",
       "      <td>...</td>\n",
       "      <td>...</td>\n",
       "      <td>...</td>\n",
       "    </tr>\n",
       "    <tr>\n",
       "      <th>187108</th>\n",
       "      <td>1195.656943</td>\n",
       "      <td>571.638706</td>\n",
       "      <td>1212.051046</td>\n",
       "      <td>538.865694</td>\n",
       "    </tr>\n",
       "    <tr>\n",
       "      <th>187109</th>\n",
       "      <td>1106.315339</td>\n",
       "      <td>578.955249</td>\n",
       "      <td>523.608158</td>\n",
       "      <td>528.522919</td>\n",
       "    </tr>\n",
       "    <tr>\n",
       "      <th>187110</th>\n",
       "      <td>1096.946783</td>\n",
       "      <td>752.169845</td>\n",
       "      <td>1694.149538</td>\n",
       "      <td>525.636205</td>\n",
       "    </tr>\n",
       "    <tr>\n",
       "      <th>187111</th>\n",
       "      <td>1294.585619</td>\n",
       "      <td>798.311419</td>\n",
       "      <td>669.599637</td>\n",
       "      <td>531.134288</td>\n",
       "    </tr>\n",
       "    <tr>\n",
       "      <th>187112</th>\n",
       "      <td>526.605336</td>\n",
       "      <td>549.608329</td>\n",
       "      <td>1293.030453</td>\n",
       "      <td>1421.065148</td>\n",
       "    </tr>\n",
       "  </tbody>\n",
       "</table>\n",
       "<p>187113 rows × 4 columns</p>\n",
       "</div>"
      ],
      "text/plain": [
       "pns             CD3         CCR7       CD45RA        HLADR\n",
       "0        529.665010   554.371581  1317.589477  1997.696231\n",
       "1       1154.370501   528.456224  1851.569346   570.263163\n",
       "2        763.902462  1028.773099   637.616422   524.728425\n",
       "3       1309.738624  1025.403300   546.073136   611.914617\n",
       "4        527.381631   526.996530   596.343621   972.093862\n",
       "...             ...          ...          ...          ...\n",
       "187108  1195.656943   571.638706  1212.051046   538.865694\n",
       "187109  1106.315339   578.955249   523.608158   528.522919\n",
       "187110  1096.946783   752.169845  1694.149538   525.636205\n",
       "187111  1294.585619   798.311419   669.599637   531.134288\n",
       "187112   526.605336   549.608329  1293.030453  1421.065148\n",
       "\n",
       "[187113 rows x 4 columns]"
      ]
     },
     "execution_count": 5,
     "metadata": {},
     "output_type": "execute_result"
    }
   ],
   "source": [
    "s = extractFCSDF(\"083012-Mike-Study 15-2011-V1-15103_cells_found_preprocessed.fcs\", \"CyTOF\", partition = \"known\", source = \"Preprocessed\")\n",
    "s"
   ]
  },
  {
   "cell_type": "code",
   "execution_count": 6,
   "id": "d3f405cf-995a-4c54-8e51-b5cb45a0d7f0",
   "metadata": {},
   "outputs": [],
   "source": [
    "import seaborn as sns"
   ]
  },
  {
   "cell_type": "code",
   "execution_count": 7,
   "id": "b62ccca7-e249-4a78-8f6f-7c42f88b2af0",
   "metadata": {},
   "outputs": [
    {
     "data": {
      "text/plain": [
       "<Axes: ylabel='Density'>"
      ]
     },
     "execution_count": 7,
     "metadata": {},
     "output_type": "execute_result"
    },
    {
     "data": {
      "image/png": "[encoded data removed]",
      "text/plain": [
       "<Figure size 640x480 with 1 Axes>"
      ]
     },
     "metadata": {},
     "output_type": "display_data"
    }
   ],
   "source": [
    "sns.kdeplot(s)"
   ]
  },
  {
   "cell_type": "markdown",
   "id": "69f1f088-8d0f-4d31-b590-10899472034b",
   "metadata": {},
   "source": [
    "### Necessary Modules"
   ]
  },
  {
   "cell_type": "code",
   "execution_count": 8,
   "id": "1874996a-9867-4e1d-8f2a-798b319c4efe",
   "metadata": {},
   "outputs": [],
   "source": [
    "import torch\n",
    "import torch.nn as nn\n",
    "import torch.nn.functional as F\n",
    "import math"
   ]
  },
  {
   "cell_type": "markdown",
   "id": "cd2ef185-a576-4a38-b9d4-48a8d51c4b43",
   "metadata": {},
   "source": [
    "#### Modules from Set Transform Paper (Lee et al)"
   ]
  },
  {
   "cell_type": "code",
   "execution_count": 9,
   "id": "2adfd8f7-3df1-4dbb-ba61-d108fcee9887",
   "metadata": {},
   "outputs": [],
   "source": [
    "# Multihead Attention Block\n",
    "class MAB(nn.Module):\n",
    "    def __init__(self, dim_Q, dim_K, dim_V, num_heads, ln=False):\n",
    "        super(MAB, self).__init__()\n",
    "        self.dim_V = dim_V\n",
    "        self.num_heads = num_heads\n",
    "        self.fc_q = nn.Linear(dim_Q, dim_V)\n",
    "        self.fc_k = nn.Linear(dim_K, dim_V)\n",
    "        self.fc_v = nn.Linear(dim_K, dim_V)\n",
    "        if ln:\n",
    "            self.ln0 = nn.LayerNorm(dim_V)\n",
    "            self.ln1 = nn.LayerNorm(dim_V)\n",
    "        self.fc_o = nn.Linear(dim_V, dim_V)\n",
    "\n",
    "    def forward(self, Q, K):\n",
    "        Q = self.fc_q(Q)\n",
    "        K, V = self.fc_k(K), self.fc_v(K)\n",
    "        dim_split = self.dim_V // self.num_heads\n",
    "        Q_ = torch.cat(Q.split(dim_split, 2), 0)\n",
    "        K_ = torch.cat(K.split(dim_split, 2), 0)\n",
    "        V_ = torch.cat(V.split(dim_split, 2), 0)\n",
    "\n",
    "        A = torch.softmax(Q_.bmm(K_.transpose(1,2))/math.sqrt(self.dim_V), 2)\n",
    "        O = torch.cat((Q_ + A.bmm(V_)).split(Q.size(0), 0), 2)\n",
    "        O = O if getattr(self, 'ln0', None) is None else self.ln0(O)\n",
    "        O = O + F.relu(self.fc_o(O))\n",
    "        O = O if getattr(self, 'ln1', None) is None else self.ln1(O)\n",
    "        return O"
   ]
  },
  {
   "cell_type": "code",
   "execution_count": 10,
   "id": "2fa9db8f-4d75-4db3-8e7a-14fd5f1cfe67",
   "metadata": {},
   "outputs": [],
   "source": [
    "# Self Attention Block\n",
    "class SAB(nn.Module):\n",
    "    def __init__(self, dim_in, dim_out, num_heads, ln=False):\n",
    "        super(SAB, self).__init__()\n",
    "        self.mab = MAB(dim_in, dim_in, dim_out, num_heads, ln=ln)\n",
    "\n",
    "    def forward(self, X):\n",
    "        return self.mab(X, X)"
   ]
  },
  {
   "cell_type": "code",
   "execution_count": 11,
   "id": "9c18209e-370c-49f9-82fa-8eaa2c860a30",
   "metadata": {},
   "outputs": [],
   "source": [
    "# Induced Self Attention BLock\n",
    "class ISAB(nn.Module):\n",
    "    def __init__(self, dim_in, dim_out, num_heads, num_inds, ln=False):\n",
    "        super(ISAB, self).__init__()\n",
    "        self.I = nn.Parameter(torch.Tensor(1, num_inds, dim_out))\n",
    "        nn.init.xavier_uniform_(self.I)\n",
    "        self.mab0 = MAB(dim_out, dim_in, dim_out, num_heads, ln=ln)\n",
    "        self.mab1 = MAB(dim_in, dim_out, dim_out, num_heads, ln=ln)\n",
    "\n",
    "    def forward(self, X):\n",
    "        H = self.mab0(self.I.repeat(X.size(0), 1, 1), X)\n",
    "        return self.mab1(X, H)"
   ]
  },
  {
   "cell_type": "code",
   "execution_count": 12,
   "id": "b6055954-223b-4dd2-9146-e0289c3bfc81",
   "metadata": {},
   "outputs": [],
   "source": [
    "# Pooling by Multihead Attention\n",
    "class PMA(nn.Module):\n",
    "    def __init__(self, dim, num_heads, num_seeds, ln=False):\n",
    "        super(PMA, self).__init__()\n",
    "        self.S = nn.Parameter(torch.Tensor(1, num_seeds, dim))\n",
    "        nn.init.xavier_uniform_(self.S)\n",
    "        self.mab = MAB(dim, dim, dim, num_heads, ln=ln)\n",
    "\n",
    "    def forward(self, X):\n",
    "        return self.mab(self.S.repeat(X.size(0), 1, 1), X)"
   ]
  },
  {
   "cell_type": "markdown",
   "id": "ff46000f-1ec9-42af-8437-5e532ecc94ce",
   "metadata": {},
   "source": [
    "#### Design of Wodinger Paper\n",
    "ISAB --> ISAB --> ISAB --> Linear Layer (row wise) to one dimension"
   ]
  },
  {
   "cell_type": "code",
   "execution_count": 13,
   "id": "e009e1a4-0a52-49ee-b489-233b2c93845d",
   "metadata": {},
   "outputs": [],
   "source": [
    "class HAITiterPredictor(nn.Module):\n",
    "    \"\"\"\n",
    "    Modified Set Transformer for predicting H1, H3, and B values from flow cytometry data\n",
    "    \n",
    "    Args:\n",
    "        num_markers: Number of markers in the FCS file\n",
    "        dim_hidden: Dimension of hidden representation\n",
    "        num_heads: Number of attention heads\n",
    "        num_inds: Number of induced points for ISAB\n",
    "        hidden_layers: Number of hidden layers\n",
    "        layer_norm: Whether to use layer normalization\n",
    "    \"\"\"\n",
    "    def __init__(self, \n",
    "                 num_markers, \n",
    "                 dim_hidden=32, \n",
    "                 num_heads=4, \n",
    "                 num_inds=16,\n",
    "                 hidden_layers=2,\n",
    "                 layer_norm=True,\n",
    "                 dropout=0.1):\n",
    "        super(HAITiterPredictor, self).__init__()\n",
    "        \n",
    "        # Store configuration\n",
    "        self.num_markers = num_markers\n",
    "        \n",
    "        # Encoder - processes each cell as part of a set\n",
    "        enc_layers = [ISAB(num_markers, dim_hidden, num_heads, num_inds, ln=layer_norm)]\n",
    "        for _ in range(1, hidden_layers):\n",
    "            enc_layers.append(ISAB(dim_hidden, dim_hidden, num_heads, num_inds, ln=layer_norm))\n",
    "        self.enc = nn.Sequential(*enc_layers)\n",
    "        \n",
    "        # Pooling Multi-head Attention to aggregate cell information\n",
    "        self.pma = PMA(dim_hidden, num_heads, 1)  # Single output representation\n",
    "        \n",
    "        # MLP for predicting the three titer values\n",
    "        self.mlp = nn.Sequential(\n",
    "            nn.Linear(dim_hidden, dim_hidden),\n",
    "            nn.ReLU(),\n",
    "            nn.Dropout(dropout),\n",
    "            nn.Linear(dim_hidden, dim_hidden // 2),\n",
    "            nn.ReLU(),\n",
    "            nn.Dropout(dropout),\n",
    "            nn.Linear(dim_hidden // 2, 1),  \n",
    "            #nn.Sigmoid()\n",
    "        )\n",
    "        \n",
    "    def forward(self, x):\n",
    "        \"\"\"\n",
    "        Args:\n",
    "            x: Input tensor of shape [batch_size, num_cells, num_markers]\n",
    "                where each sample contains a variable number of cells\n",
    "                \n",
    "        Returns:\n",
    "            Tensor of shape [batch_size, 3] with predicted H1, H3, B values\n",
    "        \"\"\"\n",
    "        # Apply set transformer to process all cells\n",
    "        h = self.enc(x)  # [batch_size, num_cells, dim_hidden]\n",
    "        \n",
    "        # Aggregate cell information using PMA\n",
    "        h = self.pma(h)  # [batch_size, 1, dim_hidden]\n",
    "        \n",
    "        # Predict titer values\n",
    "        titer_preds = self.mlp(h.squeeze(1))  # [batch_size, 1]\n",
    "        titer_preds = torch.sigmoid(titer_preds)\n",
    "        \n",
    "        return titer_preds"
   ]
  },
  {
   "cell_type": "code",
   "execution_count": 14,
   "id": "f8122ca0-4172-4e8d-9f97-9feac32d51ac",
   "metadata": {},
   "outputs": [
    {
     "data": {
      "text/plain": [
       "23"
      ]
     },
     "metadata": {},
     "output_type": "display_data"
    },
    {
     "data": {
      "text/plain": [
       "0     083012-Mike-Study 15-2011-V1-15103_cells_found...\n",
       "1     083012-Mike-Study 15-2011-V1-15107_cells_found...\n",
       "2     083012-Mike-Study 15-2011-V1-15108_cells_found...\n",
       "3     083012-Mike-Study 15-2011-V1-15109_cells_found...\n",
       "4     083012-Mike-Study 15-2011-V1-15110_cells_found...\n",
       "5     083012-Mike-Study 15-2011-V1-15111_cells_found...\n",
       "6     083012-Mike-Study 15-2011-V1-15112_cells_found...\n",
       "7     083012-Mike-Study 15-2011-V1-15113_cells_found...\n",
       "8     083012-Mike-Study 15-2011-V1-15114_cells_found...\n",
       "9     083012-Mike-Study 15-2011-V1-15115_cells_found...\n",
       "10    083012-Mike-Study 15-2011-V1-15118_cells_found...\n",
       "11    090512-Study 15-2011-15120_cells_found_preproc...\n",
       "12    083012-Mike-Study 15-2011-V1-15121_cells_found...\n",
       "13    090512-Study 15-2011-15122_cells_found_preproc...\n",
       "14    090712-Mike-Study 15-2011-15010_cells_found_pr...\n",
       "15    090512-Study 15-2011-15018_cells_found_preproc...\n",
       "16    090512-Study 15-2011-15019_cells_found_preproc...\n",
       "17    090712-Mike-Study 15-2011-15020_cells_found_pr...\n",
       "18    090712-Mike-Study 15-2011-15021_cells_found_pr...\n",
       "19    090712-Mike-Study 15-2011-15022_cells_found_pr...\n",
       "20    082812-Mike-Study 15-2011-15065_cells_found_pr...\n",
       "21    082812-Mike-Study 15-2011-15075_cells_found_pr...\n",
       "22    082812-Mike-Study 15-2011-15076_cells_found_pr...\n",
       "Name: FCS Preprocessed, dtype: object"
      ]
     },
     "metadata": {},
     "output_type": "display_data"
    },
    {
     "data": {
      "text/plain": [
       "0    082812-Mike-Study 15-2011-15079_cells_found_pr...\n",
       "1    082812-Mike-Study 15-2011-15090_cells_found_pr...\n",
       "2    090512-Study 15-2011-15092_cells_found_preproc...\n",
       "3    083012-Mike-Study 15-2011-V1-15094_cells_found...\n",
       "4    083012-Mike-Study 15-2011-V1-15095_cells_found...\n",
       "5    082812-Mike-Study 15-2011-15096_cells_found_pr...\n",
       "Name: FCS Preprocessed, dtype: object"
      ]
     },
     "metadata": {},
     "output_type": "display_data"
    },
    {
     "name": "stdout",
     "output_type": "stream",
     "text": [
      "Epoch 1/100: Train Loss = 0.7092, Val Loss = 0.7207\n",
      "Epoch 2/100: Train Loss = 0.6902, Val Loss = 0.7187\n",
      "Epoch 3/100: Train Loss = 0.6891, Val Loss = 0.7171\n",
      "Epoch 4/100: Train Loss = 0.6885, Val Loss = 0.7169\n",
      "Epoch 5/100: Train Loss = 0.6908, Val Loss = 0.7166\n",
      "Epoch 6/100: Train Loss = 0.6886, Val Loss = 0.7158\n",
      "Epoch 7/100: Train Loss = 0.6881, Val Loss = 0.7151\n",
      "Epoch 8/100: Train Loss = 0.6880, Val Loss = 0.7152\n",
      "Epoch 9/100: Train Loss = 0.6880, Val Loss = 0.7140\n",
      "Epoch 10/100: Train Loss = 0.6875, Val Loss = 0.7140\n",
      "Epoch 11/100: Train Loss = 0.6875, Val Loss = 0.7139\n",
      "Epoch 12/100: Train Loss = 0.6874, Val Loss = 0.7138\n",
      "Epoch 13/100: Train Loss = 0.6872, Val Loss = 0.7131\n",
      "Epoch 14/100: Train Loss = 0.6879, Val Loss = 0.7133\n",
      "Epoch 15/100: Train Loss = 0.6870, Val Loss = 0.7124\n",
      "Epoch 16/100: Train Loss = 0.6867, Val Loss = 0.7121\n",
      "Epoch 17/100: Train Loss = 0.6870, Val Loss = 0.7115\n",
      "Epoch 18/100: Train Loss = 0.6867, Val Loss = 0.7114\n",
      "Epoch 19/100: Train Loss = 0.6869, Val Loss = 0.7116\n",
      "Epoch 20/100: Train Loss = 0.6867, Val Loss = 0.7106\n",
      "Epoch 21/100: Train Loss = 0.6865, Val Loss = 0.7102\n",
      "Epoch 22/100: Train Loss = 0.6866, Val Loss = 0.7107\n",
      "Epoch 23/100: Train Loss = 0.6864, Val Loss = 0.7099\n",
      "Epoch 24/100: Train Loss = 0.6863, Val Loss = 0.7097\n",
      "Epoch 25/100: Train Loss = 0.6864, Val Loss = 0.7093\n",
      "Epoch 26/100: Train Loss = 0.6860, Val Loss = 0.7094\n",
      "Epoch 27/100: Train Loss = 0.6861, Val Loss = 0.7094\n",
      "Epoch 28/100: Train Loss = 0.6860, Val Loss = 0.7092\n",
      "Epoch 29/100: Train Loss = 0.6860, Val Loss = 0.7086\n",
      "Epoch 30/100: Train Loss = 0.6860, Val Loss = 0.7089\n",
      "Epoch 31/100: Train Loss = 0.6857, Val Loss = 0.7088\n",
      "Epoch 32/100: Train Loss = 0.6863, Val Loss = 0.7080\n",
      "Epoch 33/100: Train Loss = 0.6856, Val Loss = 0.7079\n",
      "Epoch 34/100: Train Loss = 0.6859, Val Loss = 0.7078\n",
      "Epoch 35/100: Train Loss = 0.6859, Val Loss = 0.7074\n",
      "Epoch 36/100: Train Loss = 0.6856, Val Loss = 0.7077\n",
      "Epoch 37/100: Train Loss = 0.6859, Val Loss = 0.7081\n",
      "Epoch 38/100: Train Loss = 0.6859, Val Loss = 0.7078\n",
      "Epoch 39/100: Train Loss = 0.6855, Val Loss = 0.7073\n",
      "Epoch 40/100: Train Loss = 0.6855, Val Loss = 0.7072\n",
      "Epoch 41/100: Train Loss = 0.6855, Val Loss = 0.7073\n",
      "Epoch 42/100: Train Loss = 0.6853, Val Loss = 0.7070\n",
      "Epoch 43/100: Train Loss = 0.6858, Val Loss = 0.7065\n",
      "Epoch 44/100: Train Loss = 0.6858, Val Loss = 0.7071\n",
      "Epoch 45/100: Train Loss = 0.6853, Val Loss = 0.7067\n",
      "Epoch 46/100: Train Loss = 0.6854, Val Loss = 0.7065\n",
      "Epoch 47/100: Train Loss = 0.6853, Val Loss = 0.7067\n",
      "Epoch 48/100: Train Loss = 0.6854, Val Loss = 0.7061\n",
      "Epoch 49/100: Train Loss = 0.6853, Val Loss = 0.7064\n",
      "Epoch 50/100: Train Loss = 0.6855, Val Loss = 0.7059\n",
      "Epoch 51/100: Train Loss = 0.6860, Val Loss = 0.7065\n",
      "Epoch 52/100: Train Loss = 0.6853, Val Loss = 0.7060\n",
      "Epoch 53/100: Train Loss = 0.6852, Val Loss = 0.7060\n",
      "Epoch 54/100: Train Loss = 0.6852, Val Loss = 0.7058\n",
      "Epoch 55/100: Train Loss = 0.6852, Val Loss = 0.7056\n",
      "Epoch 56/100: Train Loss = 0.6851, Val Loss = 0.7058\n",
      "Epoch 57/100: Train Loss = 0.6851, Val Loss = 0.7055\n",
      "Epoch 58/100: Train Loss = 0.6851, Val Loss = 0.7054\n",
      "Epoch 59/100: Train Loss = 0.6856, Val Loss = 0.7050\n",
      "Epoch 60/100: Train Loss = 0.6851, Val Loss = 0.7054\n",
      "Epoch 61/100: Train Loss = 0.6852, Val Loss = 0.7053\n",
      "Epoch 62/100: Train Loss = 0.6850, Val Loss = 0.7052\n",
      "Epoch 63/100: Train Loss = 0.6851, Val Loss = 0.7053\n",
      "Epoch 64/100: Train Loss = 0.6851, Val Loss = 0.7050\n",
      "Epoch 65/100: Train Loss = 0.6851, Val Loss = 0.7048\n",
      "Epoch 66/100: Train Loss = 0.6852, Val Loss = 0.7049\n",
      "Epoch 67/100: Train Loss = 0.6853, Val Loss = 0.7047\n",
      "Epoch 68/100: Train Loss = 0.6853, Val Loss = 0.7051\n",
      "Epoch 69/100: Train Loss = 0.6851, Val Loss = 0.7051\n",
      "Epoch 70/100: Train Loss = 0.6851, Val Loss = 0.7047\n",
      "Epoch 71/100: Train Loss = 0.6849, Val Loss = 0.7049\n",
      "Epoch 72/100: Train Loss = 0.6854, Val Loss = 0.7045\n",
      "Epoch 73/100: Train Loss = 0.6851, Val Loss = 0.7047\n",
      "Epoch 74/100: Train Loss = 0.6851, Val Loss = 0.7045\n",
      "Epoch 75/100: Train Loss = 0.6852, Val Loss = 0.7049\n",
      "Epoch 76/100: Train Loss = 0.6850, Val Loss = 0.7044\n",
      "Epoch 77/100: Train Loss = 0.6850, Val Loss = 0.7047\n",
      "Epoch 78/100: Train Loss = 0.6851, Val Loss = 0.7043\n",
      "Epoch 79/100: Train Loss = 0.6851, Val Loss = 0.7046\n",
      "Epoch 80/100: Train Loss = 0.6851, Val Loss = 0.7043\n",
      "Epoch 81/100: Train Loss = 0.6850, Val Loss = 0.7044\n",
      "Epoch 82/100: Train Loss = 0.6850, Val Loss = 0.7045\n",
      "Epoch 83/100: Train Loss = 0.6849, Val Loss = 0.7043\n",
      "Epoch 84/100: Train Loss = 0.6850, Val Loss = 0.7044\n",
      "Epoch 85/100: Train Loss = 0.6849, Val Loss = 0.7043\n",
      "Epoch 86/100: Train Loss = 0.6848, Val Loss = 0.7043\n",
      "Epoch 87/100: Train Loss = 0.6850, Val Loss = 0.7042\n",
      "Epoch 88/100: Train Loss = 0.6849, Val Loss = 0.7042\n",
      "Epoch 89/100: Train Loss = 0.6849, Val Loss = 0.7043\n",
      "Epoch 90/100: Train Loss = 0.6849, Val Loss = 0.7043\n",
      "Epoch 91/100: Train Loss = 0.6850, Val Loss = 0.7041\n",
      "Epoch 92/100: Train Loss = 0.6848, Val Loss = 0.7042\n",
      "Epoch 93/100: Train Loss = 0.6848, Val Loss = 0.7042\n",
      "Epoch 94/100: Train Loss = 0.6848, Val Loss = 0.7041\n",
      "Epoch 95/100: Train Loss = 0.6848, Val Loss = 0.7041\n",
      "Epoch 96/100: Train Loss = 0.6850, Val Loss = 0.7042\n",
      "Epoch 97/100: Train Loss = 0.6850, Val Loss = 0.7043\n",
      "Epoch 98/100: Train Loss = 0.6849, Val Loss = 0.7041\n",
      "Epoch 99/100: Train Loss = 0.6848, Val Loss = 0.7042\n",
      "Epoch 100/100: Train Loss = 0.6848, Val Loss = 0.7041\n"
     ]
    },
    {
     "data": {
      "image/png": "[encoded data removed]",
      "text/plain": [
       "<Figure size 1000x500 with 1 Axes>"
      ]
     },
     "metadata": {},
     "output_type": "display_data"
    }
   ],
   "source": [
    "import torch.optim as optim\n",
    "import torch.nn as nn\n",
    "\n",
    "dropped = [\n",
    "  ('Time',''),\n",
    "]\n",
    "\n",
    "all_samples = cytof_data['FCS Preprocessed']\n",
    "\n",
    "# initialize the model\n",
    "model = HAITiterPredictor(num_markers=4)\n",
    "device = torch.device('cuda' if torch.cuda.is_available() else 'cpu')\n",
    "model = model.to(device)\n",
    "optimizer = optim.AdamW(model.parameters(), lr=1e-2, weight_decay=0.01)\n",
    "criterion = nn.BCEWithLogitsLoss()\n",
    "scheduler = optim.lr_scheduler.ReduceLROnPlateau(optimizer, mode='min', factor=0.5, patience=5)\n",
    "\n",
    "history = {\n",
    "    'train_loss': [],\n",
    "    'val_loss': [],\n",
    "    'val_r2': []\n",
    "}\n",
    "\n",
    "train_range = int(len(all_samples)*0.8)\n",
    "train_cells = all_samples[:train_range].reset_index(drop=True)\n",
    "val_cells = all_samples[train_range:].reset_index(drop=True)\n",
    "display(train_range)\n",
    "display(train_cells)\n",
    "display(val_cells)\n",
    "\n",
    "num_epochs = 100\n",
    "\n",
    "# start training\n",
    "for epoch in range(num_epochs):\n",
    "    # train phase\n",
    "    model.train()\n",
    "    train_loss = 0.0\n",
    "    train_order = np.random.permutation(len(train_cells))\n",
    "    for i in train_order:\n",
    "        optimizer.zero_grad()\n",
    "        all_cells = extractFCSDF(train_cells[i], \"CyTOF\", partition = \"known\", source = \"Preprocessed\")\n",
    "        #cell_picks = np.random.choice(all_cells.shape[0], 50000, replace=False)\n",
    "        cells = torch.tensor(all_cells.to_numpy(), dtype=torch.float32).to(device)\n",
    "        cells = cells.unsqueeze(0).expand(8, -1, -1) # for batch size of 8\n",
    "        titers = torch.tensor(cytof_data['HAI Class'].iloc[i], dtype=torch.float32).to(device)\n",
    "        titers = titers.unsqueeze(0).expand(8, -1) # for batch size of 8\n",
    "        # forward pass\n",
    "        predictions = model(cells)\n",
    "        loss = criterion(predictions, titers)\n",
    "        \n",
    "        # backward pass\n",
    "        loss.backward()\n",
    "        optimizer.step()\n",
    "        del cells\n",
    "        train_loss += float(loss)\n",
    "    train_loss /= len(train_cells)\n",
    "    history['train_loss'].append(train_loss)\n",
    "  # validation phase\n",
    "    model.eval()\n",
    "    val_loss = 0.0\n",
    "    all_preds = []\n",
    "    all_targets = []\n",
    "    with torch.no_grad():\n",
    "        for i in range(len(val_cells)):\n",
    "            all_cells = extractFCSDF(val_cells[i], \"CyTOF\", partition = \"known\", source = \"Preprocessed\")\n",
    "            #cell_picks = np.random.choice(all_cells.shape[0], 16000, replace=False)\n",
    "            cells = torch.tensor(all_cells.to_numpy(), dtype=torch.float32).to(device)\n",
    "            cells = cells.unsqueeze(0).expand(8, -1, -1) # for batch size of 8\n",
    "            titers = torch.tensor(cytof_data['HAI Class'].iloc[i], dtype=torch.float32).to(device)\n",
    "            titers = titers.unsqueeze(0).expand(8, -1) # for batch size of 8\n",
    "            predictions = model(cells)\n",
    "            loss = criterion(predictions, titers)\n",
    "            val_loss += float(loss)\n",
    "            del cells\n",
    "        all_preds.append(predictions.cpu().numpy())\n",
    "        all_targets.append(titers.cpu().numpy())\n",
    "      \n",
    "    val_loss /= len(val_cells)\n",
    "    history['val_loss'].append(val_loss)\n",
    "      \n",
    "    all_preds = np.vstack(all_preds)\n",
    "    all_targets = np.vstack(all_targets)\n",
    "  \n",
    "    scheduler.step(val_loss)\n",
    "    print(f\"Epoch {epoch+1}/{num_epochs}: Train Loss = {train_loss:.4f}, Val Loss = {val_loss:.4f}\") \n",
    "\n",
    "# Save model\n",
    "torch.save(model.state_dict(), \"hai_titer_model.pth\")\n",
    "\n",
    "# plot loss\n",
    "plt.figure(figsize=(10, 5))\n",
    "plt.plot(history['train_loss'], label='Train Loss')\n",
    "#plt.plot(history['val_loss'], label='Validation Loss')\n",
    "plt.xlabel('Epoch')\n",
    "plt.ylabel('Loss')\n",
    "plt.legend()\n",
    "plt.title('Training and Validation Loss')\n",
    "plt.savefig('training_history.png')\n",
    "plt.show()"
   ]
  },
  {
   "cell_type": "code",
   "execution_count": 15,
   "id": "7879f8b4-2453-4d57-98d5-c7b3240c6e2e",
   "metadata": {},
   "outputs": [],
   "source": [
    "import gc\n",
    "\n",
    "gc.collect()\n",
    "\n",
    "torch.cuda.empty_cache()"
   ]
  },
  {
   "cell_type": "code",
   "execution_count": 23,
   "id": "3b88c722-cefc-499e-8bcd-cda9a1be2f67",
   "metadata": {},
   "outputs": [
    {
     "name": "stdout",
     "output_type": "stream",
     "text": [
      "0\n"
     ]
    },
    {
     "data": {
      "text/plain": [
       "array([0.5737439], dtype=float32)"
      ]
     },
     "metadata": {},
     "output_type": "display_data"
    },
    {
     "name": "stdout",
     "output_type": "stream",
     "text": [
      "1\n"
     ]
    },
    {
     "data": {
      "text/plain": [
       "array([0.5737439], dtype=float32)"
      ]
     },
     "metadata": {},
     "output_type": "display_data"
    },
    {
     "name": "stdout",
     "output_type": "stream",
     "text": [
      "2\n"
     ]
    },
    {
     "data": {
      "text/plain": [
       "array([0.5737439], dtype=float32)"
      ]
     },
     "metadata": {},
     "output_type": "display_data"
    },
    {
     "name": "stdout",
     "output_type": "stream",
     "text": [
      "3\n"
     ]
    },
    {
     "data": {
      "text/plain": [
       "array([0.5737439], dtype=float32)"
      ]
     },
     "metadata": {},
     "output_type": "display_data"
    },
    {
     "name": "stdout",
     "output_type": "stream",
     "text": [
      "4\n"
     ]
    },
    {
     "data": {
      "text/plain": [
       "array([0.5737439], dtype=float32)"
      ]
     },
     "metadata": {},
     "output_type": "display_data"
    },
    {
     "name": "stdout",
     "output_type": "stream",
     "text": [
      "5\n"
     ]
    },
    {
     "data": {
      "text/plain": [
       "array([0.5737439], dtype=float32)"
      ]
     },
     "metadata": {},
     "output_type": "display_data"
    },
    {
     "name": "stdout",
     "output_type": "stream",
     "text": [
      "6\n"
     ]
    },
    {
     "data": {
      "text/plain": [
       "array([0.5737439], dtype=float32)"
      ]
     },
     "metadata": {},
     "output_type": "display_data"
    },
    {
     "name": "stdout",
     "output_type": "stream",
     "text": [
      "7\n"
     ]
    },
    {
     "data": {
      "text/plain": [
       "array([0.5737439], dtype=float32)"
      ]
     },
     "metadata": {},
     "output_type": "display_data"
    },
    {
     "name": "stdout",
     "output_type": "stream",
     "text": [
      "8\n"
     ]
    },
    {
     "data": {
      "text/plain": [
       "array([0.5737439], dtype=float32)"
      ]
     },
     "metadata": {},
     "output_type": "display_data"
    },
    {
     "name": "stdout",
     "output_type": "stream",
     "text": [
      "9\n"
     ]
    },
    {
     "data": {
      "text/plain": [
       "array([0.5737439], dtype=float32)"
      ]
     },
     "metadata": {},
     "output_type": "display_data"
    },
    {
     "name": "stdout",
     "output_type": "stream",
     "text": [
      "10\n"
     ]
    },
    {
     "data": {
      "text/plain": [
       "array([0.5737439], dtype=float32)"
      ]
     },
     "metadata": {},
     "output_type": "display_data"
    },
    {
     "name": "stdout",
     "output_type": "stream",
     "text": [
      "11\n"
     ]
    },
    {
     "data": {
      "text/plain": [
       "array([0.5737439], dtype=float32)"
      ]
     },
     "metadata": {},
     "output_type": "display_data"
    },
    {
     "name": "stdout",
     "output_type": "stream",
     "text": [
      "12\n"
     ]
    },
    {
     "data": {
      "text/plain": [
       "array([0.5737439], dtype=float32)"
      ]
     },
     "metadata": {},
     "output_type": "display_data"
    },
    {
     "name": "stdout",
     "output_type": "stream",
     "text": [
      "13\n"
     ]
    },
    {
     "data": {
      "text/plain": [
       "array([0.5737439], dtype=float32)"
      ]
     },
     "metadata": {},
     "output_type": "display_data"
    },
    {
     "name": "stdout",
     "output_type": "stream",
     "text": [
      "14\n"
     ]
    },
    {
     "data": {
      "text/plain": [
       "array([0.5737439], dtype=float32)"
      ]
     },
     "metadata": {},
     "output_type": "display_data"
    },
    {
     "name": "stdout",
     "output_type": "stream",
     "text": [
      "15\n"
     ]
    },
    {
     "data": {
      "text/plain": [
       "array([0.5737439], dtype=float32)"
      ]
     },
     "metadata": {},
     "output_type": "display_data"
    },
    {
     "name": "stdout",
     "output_type": "stream",
     "text": [
      "16\n"
     ]
    },
    {
     "data": {
      "text/plain": [
       "array([0.5737439], dtype=float32)"
      ]
     },
     "metadata": {},
     "output_type": "display_data"
    },
    {
     "name": "stdout",
     "output_type": "stream",
     "text": [
      "17\n"
     ]
    },
    {
     "data": {
      "text/plain": [
       "array([0.5737439], dtype=float32)"
      ]
     },
     "metadata": {},
     "output_type": "display_data"
    },
    {
     "name": "stdout",
     "output_type": "stream",
     "text": [
      "18\n"
     ]
    },
    {
     "data": {
      "text/plain": [
       "array([0.5737439], dtype=float32)"
      ]
     },
     "metadata": {},
     "output_type": "display_data"
    },
    {
     "name": "stdout",
     "output_type": "stream",
     "text": [
      "19\n"
     ]
    },
    {
     "data": {
      "text/plain": [
       "array([0.5737439], dtype=float32)"
      ]
     },
     "metadata": {},
     "output_type": "display_data"
    },
    {
     "name": "stdout",
     "output_type": "stream",
     "text": [
      "20\n"
     ]
    },
    {
     "data": {
      "text/plain": [
       "array([0.5737439], dtype=float32)"
      ]
     },
     "metadata": {},
     "output_type": "display_data"
    },
    {
     "name": "stdout",
     "output_type": "stream",
     "text": [
      "21\n"
     ]
    },
    {
     "data": {
      "text/plain": [
       "array([0.5737439], dtype=float32)"
      ]
     },
     "metadata": {},
     "output_type": "display_data"
    },
    {
     "name": "stdout",
     "output_type": "stream",
     "text": [
      "22\n"
     ]
    },
    {
     "data": {
      "text/plain": [
       "array([0.5737439], dtype=float32)"
      ]
     },
     "metadata": {},
     "output_type": "display_data"
    },
    {
     "name": "stdout",
     "output_type": "stream",
     "text": [
      "23\n"
     ]
    },
    {
     "data": {
      "text/plain": [
       "array([0.5737439], dtype=float32)"
      ]
     },
     "metadata": {},
     "output_type": "display_data"
    },
    {
     "name": "stdout",
     "output_type": "stream",
     "text": [
      "24\n"
     ]
    },
    {
     "data": {
      "text/plain": [
       "array([0.5737439], dtype=float32)"
      ]
     },
     "metadata": {},
     "output_type": "display_data"
    },
    {
     "name": "stdout",
     "output_type": "stream",
     "text": [
      "25\n"
     ]
    },
    {
     "data": {
      "text/plain": [
       "array([0.5737439], dtype=float32)"
      ]
     },
     "metadata": {},
     "output_type": "display_data"
    },
    {
     "name": "stdout",
     "output_type": "stream",
     "text": [
      "26\n"
     ]
    },
    {
     "data": {
      "text/plain": [
       "array([0.5737439], dtype=float32)"
      ]
     },
     "metadata": {},
     "output_type": "display_data"
    },
    {
     "name": "stdout",
     "output_type": "stream",
     "text": [
      "27\n"
     ]
    },
    {
     "data": {
      "text/plain": [
       "array([0.5737439], dtype=float32)"
      ]
     },
     "metadata": {},
     "output_type": "display_data"
    },
    {
     "name": "stdout",
     "output_type": "stream",
     "text": [
      "28\n"
     ]
    },
    {
     "data": {
      "text/plain": [
       "array([0.5737439], dtype=float32)"
      ]
     },
     "metadata": {},
     "output_type": "display_data"
    },
    {
     "name": "stdout",
     "output_type": "stream",
     "text": [
      "Train Error for dataset:  0.5172413793103449\n"
     ]
    },
    {
     "data": {
      "image/png": "[encoded data removed]",
      "text/plain": [
       "<Figure size 640x480 with 2 Axes>"
      ]
     },
     "metadata": {},
     "output_type": "display_data"
    }
   ],
   "source": [
    "from sklearn.metrics import confusion_matrix, ConfusionMatrixDisplay\n",
    "Y = cytof_data.loc[:,'HAI Class']\n",
    "preds = []\n",
    "for i in range(len(cytof_data)):\n",
    "    print(i)\n",
    "    first_subject_data = extractFCSDF(cytof_data.loc[i, 'FCS Preprocessed'], \"CyTOF\", partition = \"known\", source = \"Preprocessed\")\n",
    "    cells = torch.tensor(first_subject_data.to_numpy(), dtype=torch.float32).to(device)\n",
    "    cells = cells.unsqueeze(0)\n",
    "    \n",
    "    # Get predictions\n",
    "    model.eval()\n",
    "    with torch.no_grad():\n",
    "      predictions = model(cells)\n",
    "    # Average predictions across batch\n",
    "    mean_predictions = nn.functional.sigmoid(predictions.mean(dim=0)).cpu().numpy()\n",
    "    display(mean_predictions)\n",
    "    for m in mean_predictions:\n",
    "        if m > 0.5:\n",
    "            preds.append(1)\n",
    "        else:\n",
    "            preds.append(0)\n",
    "    \n",
    "error = (preds != Y)\n",
    "error = error.sum() / len(error)\n",
    "print(\"Train Error for dataset: \", error)\n",
    "cf=confusion_matrix(preds, Y)\n",
    "cfdall = ConfusionMatrixDisplay(cf)\n",
    "cfdall.plot()\n",
    "plt.show()"
   ]
  },
  {
   "cell_type": "code",
   "execution_count": 27,
   "id": "91a784ac-a367-4ff9-9e40-b3b9af43426e",
   "metadata": {},
   "outputs": [
    {
     "name": "stdout",
     "output_type": "stream",
     "text": [
      "0\n"
     ]
    },
    {
     "data": {
      "text/plain": [
       "array([0.5737439], dtype=float32)"
      ]
     },
     "metadata": {},
     "output_type": "display_data"
    },
    {
     "name": "stdout",
     "output_type": "stream",
     "text": [
      "1\n"
     ]
    },
    {
     "data": {
      "text/plain": [
       "array([0.5737439], dtype=float32)"
      ]
     },
     "metadata": {},
     "output_type": "display_data"
    },
    {
     "name": "stdout",
     "output_type": "stream",
     "text": [
      "2\n"
     ]
    },
    {
     "data": {
      "text/plain": [
       "array([0.5737439], dtype=float32)"
      ]
     },
     "metadata": {},
     "output_type": "display_data"
    },
    {
     "name": "stdout",
     "output_type": "stream",
     "text": [
      "3\n"
     ]
    },
    {
     "data": {
      "text/plain": [
       "array([0.5737439], dtype=float32)"
      ]
     },
     "metadata": {},
     "output_type": "display_data"
    },
    {
     "name": "stdout",
     "output_type": "stream",
     "text": [
      "4\n"
     ]
    },
    {
     "data": {
      "text/plain": [
       "array([0.5737439], dtype=float32)"
      ]
     },
     "metadata": {},
     "output_type": "display_data"
    },
    {
     "name": "stdout",
     "output_type": "stream",
     "text": [
      "5\n"
     ]
    },
    {
     "data": {
      "text/plain": [
       "array([0.5737439], dtype=float32)"
      ]
     },
     "metadata": {},
     "output_type": "display_data"
    },
    {
     "name": "stdout",
     "output_type": "stream",
     "text": [
      "6\n"
     ]
    },
    {
     "data": {
      "text/plain": [
       "array([0.5737439], dtype=float32)"
      ]
     },
     "metadata": {},
     "output_type": "display_data"
    },
    {
     "name": "stdout",
     "output_type": "stream",
     "text": [
      "7\n"
     ]
    },
    {
     "data": {
      "text/plain": [
       "array([0.5737439], dtype=float32)"
      ]
     },
     "metadata": {},
     "output_type": "display_data"
    },
    {
     "name": "stdout",
     "output_type": "stream",
     "text": [
      "8\n"
     ]
    },
    {
     "data": {
      "text/plain": [
       "array([0.5737439], dtype=float32)"
      ]
     },
     "metadata": {},
     "output_type": "display_data"
    },
    {
     "name": "stdout",
     "output_type": "stream",
     "text": [
      "9\n"
     ]
    },
    {
     "data": {
      "text/plain": [
       "array([0.5737439], dtype=float32)"
      ]
     },
     "metadata": {},
     "output_type": "display_data"
    },
    {
     "name": "stdout",
     "output_type": "stream",
     "text": [
      "10\n"
     ]
    },
    {
     "data": {
      "text/plain": [
       "array([0.5737439], dtype=float32)"
      ]
     },
     "metadata": {},
     "output_type": "display_data"
    },
    {
     "name": "stdout",
     "output_type": "stream",
     "text": [
      "11\n"
     ]
    },
    {
     "data": {
      "text/plain": [
       "array([0.5737439], dtype=float32)"
      ]
     },
     "metadata": {},
     "output_type": "display_data"
    },
    {
     "name": "stdout",
     "output_type": "stream",
     "text": [
      "12\n"
     ]
    },
    {
     "data": {
      "text/plain": [
       "array([0.5737439], dtype=float32)"
      ]
     },
     "metadata": {},
     "output_type": "display_data"
    },
    {
     "name": "stdout",
     "output_type": "stream",
     "text": [
      "13\n"
     ]
    },
    {
     "data": {
      "text/plain": [
       "array([0.5737439], dtype=float32)"
      ]
     },
     "metadata": {},
     "output_type": "display_data"
    },
    {
     "name": "stdout",
     "output_type": "stream",
     "text": [
      "14\n"
     ]
    },
    {
     "data": {
      "text/plain": [
       "array([0.5737439], dtype=float32)"
      ]
     },
     "metadata": {},
     "output_type": "display_data"
    },
    {
     "name": "stdout",
     "output_type": "stream",
     "text": [
      "15\n"
     ]
    },
    {
     "data": {
      "text/plain": [
       "array([0.5737439], dtype=float32)"
      ]
     },
     "metadata": {},
     "output_type": "display_data"
    },
    {
     "name": "stdout",
     "output_type": "stream",
     "text": [
      "16\n"
     ]
    },
    {
     "data": {
      "text/plain": [
       "array([0.5737439], dtype=float32)"
      ]
     },
     "metadata": {},
     "output_type": "display_data"
    },
    {
     "name": "stdout",
     "output_type": "stream",
     "text": [
      "17\n"
     ]
    },
    {
     "data": {
      "text/plain": [
       "array([0.5737439], dtype=float32)"
      ]
     },
     "metadata": {},
     "output_type": "display_data"
    },
    {
     "name": "stdout",
     "output_type": "stream",
     "text": [
      "18\n"
     ]
    },
    {
     "data": {
      "text/plain": [
       "array([0.5737439], dtype=float32)"
      ]
     },
     "metadata": {},
     "output_type": "display_data"
    },
    {
     "name": "stdout",
     "output_type": "stream",
     "text": [
      "19\n"
     ]
    },
    {
     "data": {
      "text/plain": [
       "array([0.5737439], dtype=float32)"
      ]
     },
     "metadata": {},
     "output_type": "display_data"
    },
    {
     "name": "stdout",
     "output_type": "stream",
     "text": [
      "Train Error for dataset:  0.5\n"
     ]
    },
    {
     "data": {
      "image/png": "[encoded data removed]",
      "text/plain": [
       "<Figure size 640x480 with 2 Axes>"
      ]
     },
     "metadata": {},
     "output_type": "display_data"
    }
   ],
   "source": [
    "Y = flow_data.loc[:,'HAI Class']\n",
    "preds = []\n",
    "for i in range(len(flow_data)):\n",
    "    print(i)\n",
    "    first_subject_data = extractFCSDF(flow_data.loc[i, 'FCS Preprocessed'], \"Flow\", partition = \"known\", source = \"Preprocessed\")\n",
    "    cells = torch.tensor(first_subject_data.to_numpy(), dtype=torch.float32).to(device)\n",
    "    cells = cells.unsqueeze(0)\n",
    "    \n",
    "    # Get predictions\n",
    "    model.eval()\n",
    "    with torch.no_grad():\n",
    "      predictions = model(cells)\n",
    "    # Average predictions across batch\n",
    "    mean_predictions = nn.functional.sigmoid(predictions.mean(dim=0)).cpu().numpy()\n",
    "    display(mean_predictions)\n",
    "    for m in mean_predictions:\n",
    "        if m > 0.5:\n",
    "            preds.append(1)\n",
    "        else:\n",
    "            preds.append(0)\n",
    "    \n",
    "error = (preds != Y)\n",
    "error = error.sum() / len(error)\n",
    "print(\"Train Error for dataset: \", error)\n",
    "cf=confusion_matrix(preds, Y)\n",
    "cfdall = ConfusionMatrixDisplay(cf)\n",
    "cfdall.plot()\n",
    "plt.show()"
   ]
  },
  {
   "cell_type": "code",
   "execution_count": 32,
   "id": "15f7f109-aca2-4705-95db-9d877a7637f6",
   "metadata": {},
   "outputs": [
    {
     "data": {
      "image/png": "[encoded data removed]",
      "text/plain": [
       "<Figure size 1000x500 with 1 Axes>"
      ]
     },
     "metadata": {},
     "output_type": "display_data"
    }
   ],
   "source": [
    "# plot loss\n",
    "plt.figure(figsize=(10, 5))\n",
    "plt.plot(history['train_loss'], label='Train Loss')\n",
    "plt.plot(history['val_loss'], label='Validation Loss')\n",
    "plt.xlabel('Epoch')\n",
    "plt.ylabel('Loss')\n",
    "plt.ylim(0.15, 0.75) \n",
    "plt.legend()\n",
    "plt.title('Training and Validation Loss')\n",
    "plt.savefig('training_history.png')\n",
    "plt.show()"
   ]
  }
 ],
 "metadata": {
  "kernelspec": {
   "display_name": "Python 3 (ipykernel)",
   "language": "python",
   "name": "python3"
  },
  "language_info": {
   "codemirror_mode": {
    "name": "ipython",
    "version": 3
   },
   "file_extension": ".py",
   "mimetype": "text/x-python",
   "name": "python",
   "nbconvert_exporter": "python",
   "pygments_lexer": "ipython3",
   "version": "3.11.9"
  }
 },
 "nbformat": 4,
 "nbformat_minor": 5
}
